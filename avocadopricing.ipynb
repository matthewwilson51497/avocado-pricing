{
  "nbformat": 4,
  "nbformat_minor": 0,
  "metadata": {
    "colab": {
      "name": "avocadopricing.ipynb",
      "provenance": []
    },
    "kernelspec": {
      "name": "python3",
      "display_name": "Python 3"
    }
  },
  "cells": [
    {
      "cell_type": "code",
      "metadata": {
        "id": "AwP3aroV5a4r",
        "colab_type": "code",
        "colab": {
          "base_uri": "https://localhost:8080/",
          "height": 71
        },
        "outputId": "49768643-a0bf-48cf-d47c-d04ec8d62423"
      },
      "source": [
        "import numpy as np\n",
        "import pandas as pd\n",
        "import matplotlib.pyplot as plt\n",
        "from sqlalchemy import create_engine\n",
        "from sklearn.model_selection import train_test_split, cross_val_score\n",
        "from sklearn.metrics import mean_absolute_error\n",
        "from statsmodels.tools.eval_measures import mse, rmse\n",
        "from sklearn.linear_model import LinearRegression, LassoCV, RidgeCV, ElasticNetCV\n",
        "from scipy import stats\n",
        "from google.colab import files\n",
        "import io\n",
        "\n",
        "import warnings\n",
        "warnings.filterwarnings('ignore')"
      ],
      "execution_count": 1,
      "outputs": [
        {
          "output_type": "stream",
          "text": [
            "/usr/local/lib/python3.6/dist-packages/statsmodels/tools/_testing.py:19: FutureWarning: pandas.util.testing is deprecated. Use the functions in the public API at pandas.testing instead.\n",
            "  import pandas.util.testing as tm\n"
          ],
          "name": "stderr"
        }
      ]
    },
    {
      "cell_type": "code",
      "metadata": {
        "id": "in95rHhQ5jYq",
        "colab_type": "code",
        "outputId": "21866e42-5f10-442c-81f7-33edd1c860e4",
        "colab": {
          "resources": {
            "http://localhost:8080/nbextensions/google.colab/files.js": {
              "data": "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",
              "ok": true,
              "headers": [
                [
                  "content-type",
                  "application/javascript"
                ]
              ],
              "status": 200,
              "status_text": ""
            }
          },
          "base_uri": "https://localhost:8080/",
          "height": 74
        }
      },
      "source": [
        "\n",
        "uploaded = files.upload()"
      ],
      "execution_count": 2,
      "outputs": [
        {
          "output_type": "display_data",
          "data": {
            "text/html": [
              "\n",
              "     <input type=\"file\" id=\"files-84561a83-364c-4c99-ba37-18f0b662a1a4\" name=\"files[]\" multiple disabled />\n",
              "     <output id=\"result-84561a83-364c-4c99-ba37-18f0b662a1a4\">\n",
              "      Upload widget is only available when the cell has been executed in the\n",
              "      current browser session. Please rerun this cell to enable.\n",
              "      </output>\n",
              "      <script src=\"/nbextensions/google.colab/files.js\"></script> "
            ],
            "text/plain": [
              "<IPython.core.display.HTML object>"
            ]
          },
          "metadata": {
            "tags": []
          }
        },
        {
          "output_type": "stream",
          "text": [
            "Saving avocado.csv to avocado.csv\n"
          ],
          "name": "stdout"
        }
      ]
    },
    {
      "cell_type": "markdown",
      "metadata": {
        "id": "fFE59fJlPuEY",
        "colab_type": "text"
      },
      "source": [
        "### Objective of this analysis:\n",
        "I am looking to create a model that can accurately predict the prices of avocados using the features that influence it the most. I will begin with data exploration and data cleaning. "
      ]
    },
    {
      "cell_type": "code",
      "metadata": {
        "id": "VNJtq6Hn5pw8",
        "colab_type": "code",
        "outputId": "4c9738c4-858f-4db5-c559-401504376322",
        "colab": {
          "base_uri": "https://localhost:8080/",
          "height": 34
        }
      },
      "source": [
        "for fn in uploaded.keys():\n",
        "  print('User uploaded file \"{name}\" with length {length} bytes'.format(name=fn, length=len(uploaded[fn])))"
      ],
      "execution_count": 3,
      "outputs": [
        {
          "output_type": "stream",
          "text": [
            "User uploaded file \"avocado.csv\" with length 1989197 bytes\n"
          ],
          "name": "stdout"
        }
      ]
    },
    {
      "cell_type": "code",
      "metadata": {
        "id": "cIAcrREq6DTE",
        "colab_type": "code",
        "outputId": "3a5bd075-8472-41db-e320-f3f718c681fc",
        "colab": {
          "base_uri": "https://localhost:8080/",
          "height": 459
        }
      },
      "source": [
        "df = pd.read_csv(io.StringIO(uploaded['avocado.csv'].decode('utf-8')))\n",
        "print(df.columns)\n",
        "print(df.info())\n",
        "#per the kaggle website: the average price refers to the price of one single avocadi, 4046, 4225, and 4770 refer to small hass avocados, large hass, and extra large, respectively. "
      ],
      "execution_count": 4,
      "outputs": [
        {
          "output_type": "stream",
          "text": [
            "Index(['Unnamed: 0', 'Date', 'AveragePrice', 'Total Volume', '4046', '4225',\n",
            "       '4770', 'Total Bags', 'Small Bags', 'Large Bags', 'XLarge Bags', 'type',\n",
            "       'year', 'region'],\n",
            "      dtype='object')\n",
            "<class 'pandas.core.frame.DataFrame'>\n",
            "RangeIndex: 18249 entries, 0 to 18248\n",
            "Data columns (total 14 columns):\n",
            " #   Column        Non-Null Count  Dtype  \n",
            "---  ------        --------------  -----  \n",
            " 0   Unnamed: 0    18249 non-null  int64  \n",
            " 1   Date          18249 non-null  object \n",
            " 2   AveragePrice  18249 non-null  float64\n",
            " 3   Total Volume  18249 non-null  float64\n",
            " 4   4046          18249 non-null  float64\n",
            " 5   4225          18249 non-null  float64\n",
            " 6   4770          18249 non-null  float64\n",
            " 7   Total Bags    18249 non-null  float64\n",
            " 8   Small Bags    18249 non-null  float64\n",
            " 9   Large Bags    18249 non-null  float64\n",
            " 10  XLarge Bags   18249 non-null  float64\n",
            " 11  type          18249 non-null  object \n",
            " 12  year          18249 non-null  int64  \n",
            " 13  region        18249 non-null  object \n",
            "dtypes: float64(9), int64(2), object(3)\n",
            "memory usage: 1.9+ MB\n",
            "None\n"
          ],
          "name": "stdout"
        }
      ]
    },
    {
      "cell_type": "code",
      "metadata": {
        "id": "k3Ic2bNK6sPp",
        "colab_type": "code",
        "outputId": "da6a7a97-1a32-4a60-aea8-75e2b71259c0",
        "colab": {
          "base_uri": "https://localhost:8080/",
          "height": 204
        }
      },
      "source": [
        "df.head()"
      ],
      "execution_count": 5,
      "outputs": [
        {
          "output_type": "execute_result",
          "data": {
            "text/html": [
              "<div>\n",
              "<style scoped>\n",
              "    .dataframe tbody tr th:only-of-type {\n",
              "        vertical-align: middle;\n",
              "    }\n",
              "\n",
              "    .dataframe tbody tr th {\n",
              "        vertical-align: top;\n",
              "    }\n",
              "\n",
              "    .dataframe thead th {\n",
              "        text-align: right;\n",
              "    }\n",
              "</style>\n",
              "<table border=\"1\" class=\"dataframe\">\n",
              "  <thead>\n",
              "    <tr style=\"text-align: right;\">\n",
              "      <th></th>\n",
              "      <th>Unnamed: 0</th>\n",
              "      <th>Date</th>\n",
              "      <th>AveragePrice</th>\n",
              "      <th>Total Volume</th>\n",
              "      <th>4046</th>\n",
              "      <th>4225</th>\n",
              "      <th>4770</th>\n",
              "      <th>Total Bags</th>\n",
              "      <th>Small Bags</th>\n",
              "      <th>Large Bags</th>\n",
              "      <th>XLarge Bags</th>\n",
              "      <th>type</th>\n",
              "      <th>year</th>\n",
              "      <th>region</th>\n",
              "    </tr>\n",
              "  </thead>\n",
              "  <tbody>\n",
              "    <tr>\n",
              "      <th>0</th>\n",
              "      <td>0</td>\n",
              "      <td>2015-12-27</td>\n",
              "      <td>1.33</td>\n",
              "      <td>64236.62</td>\n",
              "      <td>1036.74</td>\n",
              "      <td>54454.85</td>\n",
              "      <td>48.16</td>\n",
              "      <td>8696.87</td>\n",
              "      <td>8603.62</td>\n",
              "      <td>93.25</td>\n",
              "      <td>0.0</td>\n",
              "      <td>conventional</td>\n",
              "      <td>2015</td>\n",
              "      <td>Albany</td>\n",
              "    </tr>\n",
              "    <tr>\n",
              "      <th>1</th>\n",
              "      <td>1</td>\n",
              "      <td>2015-12-20</td>\n",
              "      <td>1.35</td>\n",
              "      <td>54876.98</td>\n",
              "      <td>674.28</td>\n",
              "      <td>44638.81</td>\n",
              "      <td>58.33</td>\n",
              "      <td>9505.56</td>\n",
              "      <td>9408.07</td>\n",
              "      <td>97.49</td>\n",
              "      <td>0.0</td>\n",
              "      <td>conventional</td>\n",
              "      <td>2015</td>\n",
              "      <td>Albany</td>\n",
              "    </tr>\n",
              "    <tr>\n",
              "      <th>2</th>\n",
              "      <td>2</td>\n",
              "      <td>2015-12-13</td>\n",
              "      <td>0.93</td>\n",
              "      <td>118220.22</td>\n",
              "      <td>794.70</td>\n",
              "      <td>109149.67</td>\n",
              "      <td>130.50</td>\n",
              "      <td>8145.35</td>\n",
              "      <td>8042.21</td>\n",
              "      <td>103.14</td>\n",
              "      <td>0.0</td>\n",
              "      <td>conventional</td>\n",
              "      <td>2015</td>\n",
              "      <td>Albany</td>\n",
              "    </tr>\n",
              "    <tr>\n",
              "      <th>3</th>\n",
              "      <td>3</td>\n",
              "      <td>2015-12-06</td>\n",
              "      <td>1.08</td>\n",
              "      <td>78992.15</td>\n",
              "      <td>1132.00</td>\n",
              "      <td>71976.41</td>\n",
              "      <td>72.58</td>\n",
              "      <td>5811.16</td>\n",
              "      <td>5677.40</td>\n",
              "      <td>133.76</td>\n",
              "      <td>0.0</td>\n",
              "      <td>conventional</td>\n",
              "      <td>2015</td>\n",
              "      <td>Albany</td>\n",
              "    </tr>\n",
              "    <tr>\n",
              "      <th>4</th>\n",
              "      <td>4</td>\n",
              "      <td>2015-11-29</td>\n",
              "      <td>1.28</td>\n",
              "      <td>51039.60</td>\n",
              "      <td>941.48</td>\n",
              "      <td>43838.39</td>\n",
              "      <td>75.78</td>\n",
              "      <td>6183.95</td>\n",
              "      <td>5986.26</td>\n",
              "      <td>197.69</td>\n",
              "      <td>0.0</td>\n",
              "      <td>conventional</td>\n",
              "      <td>2015</td>\n",
              "      <td>Albany</td>\n",
              "    </tr>\n",
              "  </tbody>\n",
              "</table>\n",
              "</div>"
            ],
            "text/plain": [
              "   Unnamed: 0        Date  AveragePrice  ...          type  year  region\n",
              "0           0  2015-12-27          1.33  ...  conventional  2015  Albany\n",
              "1           1  2015-12-20          1.35  ...  conventional  2015  Albany\n",
              "2           2  2015-12-13          0.93  ...  conventional  2015  Albany\n",
              "3           3  2015-12-06          1.08  ...  conventional  2015  Albany\n",
              "4           4  2015-11-29          1.28  ...  conventional  2015  Albany\n",
              "\n",
              "[5 rows x 14 columns]"
            ]
          },
          "metadata": {
            "tags": []
          },
          "execution_count": 5
        }
      ]
    },
    {
      "cell_type": "code",
      "metadata": {
        "id": "KZbBiZf2PZBz",
        "colab_type": "code",
        "outputId": "f5a38cf9-6259-463c-9d7d-45755685001e",
        "colab": {
          "base_uri": "https://localhost:8080/",
          "height": 272
        }
      },
      "source": [
        "df.isna().sum()"
      ],
      "execution_count": 6,
      "outputs": [
        {
          "output_type": "execute_result",
          "data": {
            "text/plain": [
              "Unnamed: 0      0\n",
              "Date            0\n",
              "AveragePrice    0\n",
              "Total Volume    0\n",
              "4046            0\n",
              "4225            0\n",
              "4770            0\n",
              "Total Bags      0\n",
              "Small Bags      0\n",
              "Large Bags      0\n",
              "XLarge Bags     0\n",
              "type            0\n",
              "year            0\n",
              "region          0\n",
              "dtype: int64"
            ]
          },
          "metadata": {
            "tags": []
          },
          "execution_count": 6
        }
      ]
    },
    {
      "cell_type": "markdown",
      "metadata": {
        "id": "Xcqj3FnGQPPn",
        "colab_type": "text"
      },
      "source": [
        "Luckily, there are no null values in this dataset so no null values will have to be replaced. To begin cleaning the data however, I am going to begin breaking up the month of observation and group the locations for easier analysis. "
      ]
    },
    {
      "cell_type": "code",
      "metadata": {
        "id": "sFHp7BWBQOOX",
        "colab_type": "code",
        "colab": {}
      },
      "source": [
        "df['Month']=[d.split('-')[1] for d in df.Date]"
      ],
      "execution_count": 0,
      "outputs": []
    },
    {
      "cell_type": "code",
      "metadata": {
        "id": "Z4SCLMzqR04X",
        "colab_type": "code",
        "outputId": "296da98d-4ca2-4abd-a63b-b73763ea7e7e",
        "colab": {
          "base_uri": "https://localhost:8080/",
          "height": 221
        }
      },
      "source": [
        "df['Month']"
      ],
      "execution_count": 8,
      "outputs": [
        {
          "output_type": "execute_result",
          "data": {
            "text/plain": [
              "0        12\n",
              "1        12\n",
              "2        12\n",
              "3        12\n",
              "4        11\n",
              "         ..\n",
              "18244    02\n",
              "18245    01\n",
              "18246    01\n",
              "18247    01\n",
              "18248    01\n",
              "Name: Month, Length: 18249, dtype: object"
            ]
          },
          "metadata": {
            "tags": []
          },
          "execution_count": 8
        }
      ]
    },
    {
      "cell_type": "code",
      "metadata": {
        "id": "m4pybdJRR7Pz",
        "colab_type": "code",
        "outputId": "5015805a-a405-4fd3-8cce-3e6a27dc41d4",
        "colab": {
          "base_uri": "https://localhost:8080/",
          "height": 221
        }
      },
      "source": [
        "df['region']\n",
        "#as seen in the below, there are some values where the region is not specified (TotalUS). Those rows will be dropped since they only constitute for\n",
        "#a small fraction of all observations."
      ],
      "execution_count": 9,
      "outputs": [
        {
          "output_type": "execute_result",
          "data": {
            "text/plain": [
              "0                  Albany\n",
              "1                  Albany\n",
              "2                  Albany\n",
              "3                  Albany\n",
              "4                  Albany\n",
              "               ...       \n",
              "18244    WestTexNewMexico\n",
              "18245    WestTexNewMexico\n",
              "18246    WestTexNewMexico\n",
              "18247    WestTexNewMexico\n",
              "18248    WestTexNewMexico\n",
              "Name: region, Length: 18249, dtype: object"
            ]
          },
          "metadata": {
            "tags": []
          },
          "execution_count": 9
        }
      ]
    },
    {
      "cell_type": "code",
      "metadata": {
        "id": "HpRklGjHSmso",
        "colab_type": "code",
        "outputId": "e53b2952-fe23-462f-d0a0-3e2a1a089dbe",
        "colab": {
          "base_uri": "https://localhost:8080/",
          "height": 289
        }
      },
      "source": [
        "df.loc[df['region'] == 'TotalUS'].count()"
      ],
      "execution_count": 10,
      "outputs": [
        {
          "output_type": "execute_result",
          "data": {
            "text/plain": [
              "Unnamed: 0      338\n",
              "Date            338\n",
              "AveragePrice    338\n",
              "Total Volume    338\n",
              "4046            338\n",
              "4225            338\n",
              "4770            338\n",
              "Total Bags      338\n",
              "Small Bags      338\n",
              "Large Bags      338\n",
              "XLarge Bags     338\n",
              "type            338\n",
              "year            338\n",
              "region          338\n",
              "Month           338\n",
              "dtype: int64"
            ]
          },
          "metadata": {
            "tags": []
          },
          "execution_count": 10
        }
      ]
    },
    {
      "cell_type": "code",
      "metadata": {
        "id": "wumJJqECSWMD",
        "colab_type": "code",
        "colab": {}
      },
      "source": [
        "df = df.drop(df.index[df.region == 'TotalUS'])"
      ],
      "execution_count": 0,
      "outputs": []
    },
    {
      "cell_type": "code",
      "metadata": {
        "id": "HWx-x8yWdQil",
        "colab_type": "code",
        "outputId": "dd296122-b7d3-4833-ee54-e72cc924056e",
        "colab": {
          "base_uri": "https://localhost:8080/",
          "height": 238
        }
      },
      "source": [
        "#I now want to group all the regions for the respective areas in which the observations were made. This will make it possible to see if there is a correlation\n",
        "#to what region in the united states these observations were made and if it has an effect on price. \n",
        "df.region.unique()"
      ],
      "execution_count": 12,
      "outputs": [
        {
          "output_type": "execute_result",
          "data": {
            "text/plain": [
              "array(['Albany', 'Atlanta', 'BaltimoreWashington', 'Boise', 'Boston',\n",
              "       'BuffaloRochester', 'California', 'Charlotte', 'Chicago',\n",
              "       'CincinnatiDayton', 'Columbus', 'DallasFtWorth', 'Denver',\n",
              "       'Detroit', 'GrandRapids', 'GreatLakes', 'HarrisburgScranton',\n",
              "       'HartfordSpringfield', 'Houston', 'Indianapolis', 'Jacksonville',\n",
              "       'LasVegas', 'LosAngeles', 'Louisville', 'MiamiFtLauderdale',\n",
              "       'Midsouth', 'Nashville', 'NewOrleansMobile', 'NewYork',\n",
              "       'Northeast', 'NorthernNewEngland', 'Orlando', 'Philadelphia',\n",
              "       'PhoenixTucson', 'Pittsburgh', 'Plains', 'Portland',\n",
              "       'RaleighGreensboro', 'RichmondNorfolk', 'Roanoke', 'Sacramento',\n",
              "       'SanDiego', 'SanFrancisco', 'Seattle', 'SouthCarolina',\n",
              "       'SouthCentral', 'Southeast', 'Spokane', 'StLouis', 'Syracuse',\n",
              "       'Tampa', 'West', 'WestTexNewMexico'], dtype=object)"
            ]
          },
          "metadata": {
            "tags": []
          },
          "execution_count": 12
        }
      ]
    },
    {
      "cell_type": "code",
      "metadata": {
        "id": "brQtPj8At3_N",
        "colab_type": "code",
        "colab": {}
      },
      "source": [
        "region_dict = {\n",
        "    'northeast' : ['Boston', 'HartfordSpringfield', 'Northeast', 'NorthernNewEngland'],\n",
        "    'mid_atlantic' : ['Albany', 'BaltimoreWashington', 'BuffaloRochester', 'HarrisburgScranton', 'NewYork', 'Philadelphia', 'Pittsburgh', 'Syracuse'],\n",
        "    'southeast' : ['Atlanta', 'Charlotte', 'Jacksonville', 'Louisville', 'MiamiFtLauderdale', 'Nashville', 'Orlando', 'RaleighGreensboro', 'RichmondNorfolk', 'Roanoke', 'SouthCarolina', 'Southeast', 'Tampa'],\n",
        "    'midwest' : ['Chicago', 'CincinnatiDayton', 'Columbus', 'Detroit', 'GrandRapids', 'GreatLakes', 'Indianapolis', 'Plains', 'StLouis'],\n",
        "    'gulf_area' : ['DallasFtWorth', 'Houston', 'Midsouth', 'NewOrleansMobile', 'SouthCentral'],\n",
        "    'southwest' : ['Denver', 'PhoenixTucson', 'WestTexNewMexico'],\n",
        "    'west_coast' : ['California', 'LasVegas', 'LosAngeles', 'Sacramento', 'SanDiego', 'SanFrancisco', 'West'],\n",
        "    'pacific_northwest' : ['Boise', 'Portland', 'Seattle', 'Spokane']\n",
        "}"
      ],
      "execution_count": 0,
      "outputs": []
    },
    {
      "cell_type": "code",
      "metadata": {
        "id": "D6yxmQzC-BOy",
        "colab_type": "code",
        "colab": {}
      },
      "source": [
        "def find_region(region_dict: dict, city: str):\n",
        "    region = [region for region, cities in region_dict.items() if city in cities]\n",
        "    return region[0]"
      ],
      "execution_count": 0,
      "outputs": []
    },
    {
      "cell_type": "code",
      "metadata": {
        "id": "26c2viatO-Pk",
        "colab_type": "code",
        "outputId": "840dab93-2e65-4929-a9de-3fbf60bfdd92",
        "colab": {
          "base_uri": "https://localhost:8080/",
          "height": 34
        }
      },
      "source": [
        "find_region(region_dict, 'Albany')"
      ],
      "execution_count": 15,
      "outputs": [
        {
          "output_type": "execute_result",
          "data": {
            "text/plain": [
              "'mid_atlantic'"
            ]
          },
          "metadata": {
            "tags": []
          },
          "execution_count": 15
        }
      ]
    },
    {
      "cell_type": "code",
      "metadata": {
        "id": "Ie7KWZ1U8b0c",
        "colab_type": "code",
        "outputId": "d0fc455b-79af-44bb-bc2a-c523b616f9c6",
        "colab": {
          "base_uri": "https://localhost:8080/",
          "height": 34
        }
      },
      "source": [
        "region_list = []\n",
        "long_region_list = df.region\n",
        "\n",
        "for r in long_region_list:\n",
        "  new_area = find_region(region_dict, r)\n",
        "  region_list.append(new_area)\n",
        "\n",
        "df['new_region'] = region_list\n",
        "len(df.new_region)\n",
        "                         \n",
        "                         "
      ],
      "execution_count": 16,
      "outputs": [
        {
          "output_type": "execute_result",
          "data": {
            "text/plain": [
              "17911"
            ]
          },
          "metadata": {
            "tags": []
          },
          "execution_count": 16
        }
      ]
    },
    {
      "cell_type": "markdown",
      "metadata": {
        "id": "kmpW3ovddUzP",
        "colab_type": "text"
      },
      "source": [
        "## On to Data Exploration. I will be creating histograms and bar charts for each column. "
      ]
    },
    {
      "cell_type": "code",
      "metadata": {
        "id": "oWXE9lY-D_Rk",
        "colab_type": "code",
        "colab": {}
      },
      "source": [
        "numeric_columns = ['AveragePrice', 'Total Volume', '4046', '4225', '4770', 'Total Bags', 'Small Bags', 'Large Bags', 'XLarge Bags']"
      ],
      "execution_count": 0,
      "outputs": []
    },
    {
      "cell_type": "code",
      "metadata": {
        "id": "kqAtDVEBFBir",
        "colab_type": "code",
        "outputId": "af28e069-4a0f-47a1-fdcf-7b5fbca2b4ff",
        "colab": {
          "base_uri": "https://localhost:8080/",
          "height": 1000
        }
      },
      "source": [
        "fig = plt.figure(figsize=(20,100))\n",
        "\n",
        "for i, col in enumerate(numeric_columns):\n",
        "  plt.subplot(len(numeric_columns), 2, i+1)\n",
        "  plt.hist(df[col])\n",
        "  plt.title('histogram of {}'.format(col))\n",
        "\n",
        "plt.tight_layout()\n",
        "plt.show()"
      ],
      "execution_count": 18,
      "outputs": [
        {
          "output_type": "display_data",
          "data": {
            "image/png": "[encoded data removed]",
            "text/plain": [
              "<Figure size 1440x7200 with 9 Axes>"
            ]
          },
          "metadata": {
            "tags": [],
            "needs_background": "light"
          }
        }
      ]
    },
    {
      "cell_type": "code",
      "metadata": {
        "id": "b-R6CfrwFH6Z",
        "colab_type": "code",
        "colab": {}
      },
      "source": [
        "categorical_columns = ['type', 'year', 'Month', 'new_region']"
      ],
      "execution_count": 0,
      "outputs": []
    },
    {
      "cell_type": "code",
      "metadata": {
        "id": "U36RsKvtIRy0",
        "colab_type": "code",
        "outputId": "b185e4a0-af2f-4858-923e-cc1898e482e0",
        "colab": {
          "base_uri": "https://localhost:8080/",
          "height": 85
        }
      },
      "source": [
        "df.columns"
      ],
      "execution_count": 20,
      "outputs": [
        {
          "output_type": "execute_result",
          "data": {
            "text/plain": [
              "Index(['Unnamed: 0', 'Date', 'AveragePrice', 'Total Volume', '4046', '4225',\n",
              "       '4770', 'Total Bags', 'Small Bags', 'Large Bags', 'XLarge Bags', 'type',\n",
              "       'year', 'region', 'Month', 'new_region'],\n",
              "      dtype='object')"
            ]
          },
          "metadata": {
            "tags": []
          },
          "execution_count": 20
        }
      ]
    },
    {
      "cell_type": "code",
      "metadata": {
        "id": "yYoaCJZkHbId",
        "colab_type": "code",
        "outputId": "2e5391ef-ec31-4449-e70a-4c1715ec0a81",
        "colab": {
          "base_uri": "https://localhost:8080/",
          "height": 1000
        }
      },
      "source": [
        "fig = plt.figure(figsize=(20,200))\n",
        "\n",
        "for i, col in enumerate(categorical_columns):\n",
        "  plt.subplot(len(categorical_columns), 2, i+1)\n",
        "  plt.barh(df.groupby(col)[col].count().index, \n",
        "          df.groupby(col)[col].count(), \n",
        "          color=[\"red\",\"green\",\"blue\",\"grey\",\"pink\"])\n",
        "  plt.title('bar chart of {}'.format(col))\n",
        "\n",
        "plt.tight_layout()\n",
        "plt.show()"
      ],
      "execution_count": 21,
      "outputs": [
        {
          "output_type": "display_data",
          "data": {
            "image/png": "[encoded data removed]",
            "text/plain": [
              "<Figure size 1440x14400 with 4 Axes>"
            ]
          },
          "metadata": {
            "tags": [],
            "needs_background": "light"
          }
        }
      ]
    },
    {
      "cell_type": "code",
      "metadata": {
        "id": "yC2L0qp6JZPi",
        "colab_type": "code",
        "outputId": "3109e830-4951-4823-9f53-431b72ef9e86",
        "colab": {
          "base_uri": "https://localhost:8080/",
          "height": 1000
        }
      },
      "source": [
        "#on to creating scatterplots for the numeric, continuous features. \n",
        "fig = plt.figure(figsize=(20,100))\n",
        "\n",
        "for i, col in enumerate(numeric_columns):\n",
        "  plt.subplot(len(numeric_columns), 4, i+1)\n",
        "  plt.scatter(df[col], df['AveragePrice'])\n",
        "  plt.title('scatterplot of {} vs average price of 1 avocaado'.format(col))\n",
        "\n",
        "plt.tight_layout()\n",
        "plt.show()"
      ],
      "execution_count": 22,
      "outputs": [
        {
          "output_type": "display_data",
          "data": {
            "image/png": "[encoded data removed]",
            "text/plain": [
              "<Figure size 1440x7200 with 9 Axes>"
            ]
          },
          "metadata": {
            "tags": [],
            "needs_background": "light"
          }
        }
      ]
    },
    {
      "cell_type": "code",
      "metadata": {
        "id": "AQf6K8EMKcIF",
        "colab_type": "code",
        "outputId": "f55bfb7b-abe8-4470-e984-8bfda99eab9f",
        "colab": {
          "base_uri": "https://localhost:8080/",
          "height": 328
        }
      },
      "source": [
        "df_numeric = df[numeric_columns]\n",
        "df_numeric.corr()"
      ],
      "execution_count": 23,
      "outputs": [
        {
          "output_type": "execute_result",
          "data": {
            "text/html": [
              "<div>\n",
              "<style scoped>\n",
              "    .dataframe tbody tr th:only-of-type {\n",
              "        vertical-align: middle;\n",
              "    }\n",
              "\n",
              "    .dataframe tbody tr th {\n",
              "        vertical-align: top;\n",
              "    }\n",
              "\n",
              "    .dataframe thead th {\n",
              "        text-align: right;\n",
              "    }\n",
              "</style>\n",
              "<table border=\"1\" class=\"dataframe\">\n",
              "  <thead>\n",
              "    <tr style=\"text-align: right;\">\n",
              "      <th></th>\n",
              "      <th>AveragePrice</th>\n",
              "      <th>Total Volume</th>\n",
              "      <th>4046</th>\n",
              "      <th>4225</th>\n",
              "      <th>4770</th>\n",
              "      <th>Total Bags</th>\n",
              "      <th>Small Bags</th>\n",
              "      <th>Large Bags</th>\n",
              "      <th>XLarge Bags</th>\n",
              "    </tr>\n",
              "  </thead>\n",
              "  <tbody>\n",
              "    <tr>\n",
              "      <th>AveragePrice</th>\n",
              "      <td>1.000000</td>\n",
              "      <td>-0.343982</td>\n",
              "      <td>-0.342105</td>\n",
              "      <td>-0.267643</td>\n",
              "      <td>-0.241213</td>\n",
              "      <td>-0.307685</td>\n",
              "      <td>-0.296151</td>\n",
              "      <td>-0.248909</td>\n",
              "      <td>-0.154424</td>\n",
              "    </tr>\n",
              "    <tr>\n",
              "      <th>Total Volume</th>\n",
              "      <td>-0.343982</td>\n",
              "      <td>1.000000</td>\n",
              "      <td>0.895002</td>\n",
              "      <td>0.872547</td>\n",
              "      <td>0.649072</td>\n",
              "      <td>0.924980</td>\n",
              "      <td>0.920763</td>\n",
              "      <td>0.668446</td>\n",
              "      <td>0.538396</td>\n",
              "    </tr>\n",
              "    <tr>\n",
              "      <th>4046</th>\n",
              "      <td>-0.342105</td>\n",
              "      <td>0.895002</td>\n",
              "      <td>1.000000</td>\n",
              "      <td>0.603442</td>\n",
              "      <td>0.509280</td>\n",
              "      <td>0.776373</td>\n",
              "      <td>0.761604</td>\n",
              "      <td>0.589649</td>\n",
              "      <td>0.436249</td>\n",
              "    </tr>\n",
              "    <tr>\n",
              "      <th>4225</th>\n",
              "      <td>-0.267643</td>\n",
              "      <td>0.872547</td>\n",
              "      <td>0.603442</td>\n",
              "      <td>1.000000</td>\n",
              "      <td>0.623368</td>\n",
              "      <td>0.754345</td>\n",
              "      <td>0.782892</td>\n",
              "      <td>0.466107</td>\n",
              "      <td>0.449903</td>\n",
              "    </tr>\n",
              "    <tr>\n",
              "      <th>4770</th>\n",
              "      <td>-0.241213</td>\n",
              "      <td>0.649072</td>\n",
              "      <td>0.509280</td>\n",
              "      <td>0.623368</td>\n",
              "      <td>1.000000</td>\n",
              "      <td>0.553417</td>\n",
              "      <td>0.566304</td>\n",
              "      <td>0.343136</td>\n",
              "      <td>0.587963</td>\n",
              "    </tr>\n",
              "    <tr>\n",
              "      <th>Total Bags</th>\n",
              "      <td>-0.307685</td>\n",
              "      <td>0.924980</td>\n",
              "      <td>0.776373</td>\n",
              "      <td>0.754345</td>\n",
              "      <td>0.553417</td>\n",
              "      <td>1.000000</td>\n",
              "      <td>0.969591</td>\n",
              "      <td>0.787834</td>\n",
              "      <td>0.555153</td>\n",
              "    </tr>\n",
              "    <tr>\n",
              "      <th>Small Bags</th>\n",
              "      <td>-0.296151</td>\n",
              "      <td>0.920763</td>\n",
              "      <td>0.761604</td>\n",
              "      <td>0.782892</td>\n",
              "      <td>0.566304</td>\n",
              "      <td>0.969591</td>\n",
              "      <td>1.000000</td>\n",
              "      <td>0.613817</td>\n",
              "      <td>0.587470</td>\n",
              "    </tr>\n",
              "    <tr>\n",
              "      <th>Large Bags</th>\n",
              "      <td>-0.248909</td>\n",
              "      <td>0.668446</td>\n",
              "      <td>0.589649</td>\n",
              "      <td>0.466107</td>\n",
              "      <td>0.343136</td>\n",
              "      <td>0.787834</td>\n",
              "      <td>0.613817</td>\n",
              "      <td>1.000000</td>\n",
              "      <td>0.267308</td>\n",
              "    </tr>\n",
              "    <tr>\n",
              "      <th>XLarge Bags</th>\n",
              "      <td>-0.154424</td>\n",
              "      <td>0.538396</td>\n",
              "      <td>0.436249</td>\n",
              "      <td>0.449903</td>\n",
              "      <td>0.587963</td>\n",
              "      <td>0.555153</td>\n",
              "      <td>0.587470</td>\n",
              "      <td>0.267308</td>\n",
              "      <td>1.000000</td>\n",
              "    </tr>\n",
              "  </tbody>\n",
              "</table>\n",
              "</div>"
            ],
            "text/plain": [
              "              AveragePrice  Total Volume  ...  Large Bags  XLarge Bags\n",
              "AveragePrice      1.000000     -0.343982  ...   -0.248909    -0.154424\n",
              "Total Volume     -0.343982      1.000000  ...    0.668446     0.538396\n",
              "4046             -0.342105      0.895002  ...    0.589649     0.436249\n",
              "4225             -0.267643      0.872547  ...    0.466107     0.449903\n",
              "4770             -0.241213      0.649072  ...    0.343136     0.587963\n",
              "Total Bags       -0.307685      0.924980  ...    0.787834     0.555153\n",
              "Small Bags       -0.296151      0.920763  ...    0.613817     0.587470\n",
              "Large Bags       -0.248909      0.668446  ...    1.000000     0.267308\n",
              "XLarge Bags      -0.154424      0.538396  ...    0.267308     1.000000\n",
              "\n",
              "[9 rows x 9 columns]"
            ]
          },
          "metadata": {
            "tags": []
          },
          "execution_count": 23
        }
      ]
    },
    {
      "cell_type": "code",
      "metadata": {
        "id": "gunCnL0LNU0q",
        "colab_type": "code",
        "colab": {}
      },
      "source": [
        "df_categorical = df[categorical_columns]"
      ],
      "execution_count": 0,
      "outputs": []
    },
    {
      "cell_type": "code",
      "metadata": {
        "id": "23T8Jr5RNocz",
        "colab_type": "code",
        "outputId": "0093c8c4-4aa4-4254-9637-af5cea9bbc0b",
        "colab": {
          "base_uri": "https://localhost:8080/",
          "height": 1000
        }
      },
      "source": [
        "import seaborn as sns\n",
        "coormat = df_numeric.corr()\n",
        "\n",
        "plt.figure(figsize=(40,40))\n",
        "plt.title('Correlation matrix for avocado prices')\n",
        "\n",
        "sns.heatmap(coormat, square=True, annot=True, linewidth= .5)"
      ],
      "execution_count": 25,
      "outputs": [
        {
          "output_type": "execute_result",
          "data": {
            "text/plain": [
              "<matplotlib.axes._subplots.AxesSubplot at 0x7fa8b1feda20>"
            ]
          },
          "metadata": {
            "tags": []
          },
          "execution_count": 25
        },
        {
          "output_type": "display_data",
          "data": {
            "image/png": "[encoded data removed]",
            "text/plain": [
              "<Figure size 2880x2880 with 2 Axes>"
            ]
          },
          "metadata": {
            "tags": [],
            "needs_background": "light"
          }
        }
      ]
    },
    {
      "cell_type": "code",
      "metadata": {
        "id": "KFp9nFt9N9qU",
        "colab_type": "code",
        "outputId": "f6ae8065-b169-4f6e-ffe2-d57c4dbe1b3e",
        "colab": {
          "base_uri": "https://localhost:8080/",
          "height": 656
        }
      },
      "source": [
        "fig = plt.figure(figsize=(20,20))\n",
        "\n",
        "for i, col in enumerate(categorical_columns):\n",
        "  plt.subplot(len(categorical_columns), 2, i+1)\n",
        "  sns.barplot(df[col], df['AveragePrice'])\n",
        "  plt.title('sale price by {}'.format(col))\n",
        "\n",
        "plt.tight_layout()\n",
        "plt.show()"
      ],
      "execution_count": 26,
      "outputs": [
        {
          "output_type": "display_data",
          "data": {
            "image/png": "[encoded data removed]",
            "text/plain": [
              "<Figure size 1440x1440 with 4 Axes>"
            ]
          },
          "metadata": {
            "tags": [],
            "needs_background": "light"
          }
        }
      ]
    },
    {
      "cell_type": "markdown",
      "metadata": {
        "id": "_7lRD-F0OuDw",
        "colab_type": "text"
      },
      "source": [
        "## Feature Engineering\n",
        "To start the process of feature selection, I am going to begin creating dummies for the categorical variables."
      ]
    },
    {
      "cell_type": "code",
      "metadata": {
        "id": "QLh6dTjVO7wn",
        "colab_type": "code",
        "outputId": "3975a20d-d6b2-415c-8b94-a8dc5e1b455c",
        "colab": {
          "base_uri": "https://localhost:8080/",
          "height": 224
        }
      },
      "source": [
        "dummy_data = pd.get_dummies(df_categorical.astype(str), drop_first=True)\n",
        "dummy_data.head()"
      ],
      "execution_count": 27,
      "outputs": [
        {
          "output_type": "execute_result",
          "data": {
            "text/html": [
              "<div>\n",
              "<style scoped>\n",
              "    .dataframe tbody tr th:only-of-type {\n",
              "        vertical-align: middle;\n",
              "    }\n",
              "\n",
              "    .dataframe tbody tr th {\n",
              "        vertical-align: top;\n",
              "    }\n",
              "\n",
              "    .dataframe thead th {\n",
              "        text-align: right;\n",
              "    }\n",
              "</style>\n",
              "<table border=\"1\" class=\"dataframe\">\n",
              "  <thead>\n",
              "    <tr style=\"text-align: right;\">\n",
              "      <th></th>\n",
              "      <th>type_organic</th>\n",
              "      <th>year_2016</th>\n",
              "      <th>year_2017</th>\n",
              "      <th>year_2018</th>\n",
              "      <th>Month_02</th>\n",
              "      <th>Month_03</th>\n",
              "      <th>Month_04</th>\n",
              "      <th>Month_05</th>\n",
              "      <th>Month_06</th>\n",
              "      <th>Month_07</th>\n",
              "      <th>Month_08</th>\n",
              "      <th>Month_09</th>\n",
              "      <th>Month_10</th>\n",
              "      <th>Month_11</th>\n",
              "      <th>Month_12</th>\n",
              "      <th>new_region_mid_atlantic</th>\n",
              "      <th>new_region_midwest</th>\n",
              "      <th>new_region_northeast</th>\n",
              "      <th>new_region_pacific_northwest</th>\n",
              "      <th>new_region_southeast</th>\n",
              "      <th>new_region_southwest</th>\n",
              "      <th>new_region_west_coast</th>\n",
              "    </tr>\n",
              "  </thead>\n",
              "  <tbody>\n",
              "    <tr>\n",
              "      <th>0</th>\n",
              "      <td>0</td>\n",
              "      <td>0</td>\n",
              "      <td>0</td>\n",
              "      <td>0</td>\n",
              "      <td>0</td>\n",
              "      <td>0</td>\n",
              "      <td>0</td>\n",
              "      <td>0</td>\n",
              "      <td>0</td>\n",
              "      <td>0</td>\n",
              "      <td>0</td>\n",
              "      <td>0</td>\n",
              "      <td>0</td>\n",
              "      <td>0</td>\n",
              "      <td>1</td>\n",
              "      <td>1</td>\n",
              "      <td>0</td>\n",
              "      <td>0</td>\n",
              "      <td>0</td>\n",
              "      <td>0</td>\n",
              "      <td>0</td>\n",
              "      <td>0</td>\n",
              "    </tr>\n",
              "    <tr>\n",
              "      <th>1</th>\n",
              "      <td>0</td>\n",
              "      <td>0</td>\n",
              "      <td>0</td>\n",
              "      <td>0</td>\n",
              "      <td>0</td>\n",
              "      <td>0</td>\n",
              "      <td>0</td>\n",
              "      <td>0</td>\n",
              "      <td>0</td>\n",
              "      <td>0</td>\n",
              "      <td>0</td>\n",
              "      <td>0</td>\n",
              "      <td>0</td>\n",
              "      <td>0</td>\n",
              "      <td>1</td>\n",
              "      <td>1</td>\n",
              "      <td>0</td>\n",
              "      <td>0</td>\n",
              "      <td>0</td>\n",
              "      <td>0</td>\n",
              "      <td>0</td>\n",
              "      <td>0</td>\n",
              "    </tr>\n",
              "    <tr>\n",
              "      <th>2</th>\n",
              "      <td>0</td>\n",
              "      <td>0</td>\n",
              "      <td>0</td>\n",
              "      <td>0</td>\n",
              "      <td>0</td>\n",
              "      <td>0</td>\n",
              "      <td>0</td>\n",
              "      <td>0</td>\n",
              "      <td>0</td>\n",
              "      <td>0</td>\n",
              "      <td>0</td>\n",
              "      <td>0</td>\n",
              "      <td>0</td>\n",
              "      <td>0</td>\n",
              "      <td>1</td>\n",
              "      <td>1</td>\n",
              "      <td>0</td>\n",
              "      <td>0</td>\n",
              "      <td>0</td>\n",
              "      <td>0</td>\n",
              "      <td>0</td>\n",
              "      <td>0</td>\n",
              "    </tr>\n",
              "    <tr>\n",
              "      <th>3</th>\n",
              "      <td>0</td>\n",
              "      <td>0</td>\n",
              "      <td>0</td>\n",
              "      <td>0</td>\n",
              "      <td>0</td>\n",
              "      <td>0</td>\n",
              "      <td>0</td>\n",
              "      <td>0</td>\n",
              "      <td>0</td>\n",
              "      <td>0</td>\n",
              "      <td>0</td>\n",
              "      <td>0</td>\n",
              "      <td>0</td>\n",
              "      <td>0</td>\n",
              "      <td>1</td>\n",
              "      <td>1</td>\n",
              "      <td>0</td>\n",
              "      <td>0</td>\n",
              "      <td>0</td>\n",
              "      <td>0</td>\n",
              "      <td>0</td>\n",
              "      <td>0</td>\n",
              "    </tr>\n",
              "    <tr>\n",
              "      <th>4</th>\n",
              "      <td>0</td>\n",
              "      <td>0</td>\n",
              "      <td>0</td>\n",
              "      <td>0</td>\n",
              "      <td>0</td>\n",
              "      <td>0</td>\n",
              "      <td>0</td>\n",
              "      <td>0</td>\n",
              "      <td>0</td>\n",
              "      <td>0</td>\n",
              "      <td>0</td>\n",
              "      <td>0</td>\n",
              "      <td>0</td>\n",
              "      <td>1</td>\n",
              "      <td>0</td>\n",
              "      <td>1</td>\n",
              "      <td>0</td>\n",
              "      <td>0</td>\n",
              "      <td>0</td>\n",
              "      <td>0</td>\n",
              "      <td>0</td>\n",
              "      <td>0</td>\n",
              "    </tr>\n",
              "  </tbody>\n",
              "</table>\n",
              "</div>"
            ],
            "text/plain": [
              "   type_organic  year_2016  ...  new_region_southwest  new_region_west_coast\n",
              "0             0          0  ...                     0                      0\n",
              "1             0          0  ...                     0                      0\n",
              "2             0          0  ...                     0                      0\n",
              "3             0          0  ...                     0                      0\n",
              "4             0          0  ...                     0                      0\n",
              "\n",
              "[5 rows x 22 columns]"
            ]
          },
          "metadata": {
            "tags": []
          },
          "execution_count": 27
        }
      ]
    },
    {
      "cell_type": "code",
      "metadata": {
        "id": "0uF5K2bctJnX",
        "colab_type": "code",
        "colab": {}
      },
      "source": [
        "numeric_and_dummies = pd.concat([df_numeric, dummy_data], axis=1)"
      ],
      "execution_count": 0,
      "outputs": []
    },
    {
      "cell_type": "code",
      "metadata": {
        "id": "sQVxxzyptouQ",
        "colab_type": "code",
        "outputId": "61066482-f3d6-4d28-ea57-be7e9d6dcead",
        "colab": {
          "base_uri": "https://localhost:8080/",
          "height": 578
        }
      },
      "source": [
        "#on to looking for the appropriate features...\n",
        "corr_w_dummies = numeric_and_dummies.corr()\n",
        "corr_w_dummies['AveragePrice'].sort_values()"
      ],
      "execution_count": 64,
      "outputs": [
        {
          "output_type": "execute_result",
          "data": {
            "text/plain": [
              "Total Volume                   -0.343982\n",
              "4046                           -0.342105\n",
              "Total Bags                     -0.307685\n",
              "Small Bags                     -0.296151\n",
              "4225                           -0.267643\n",
              "Large Bags                     -0.248909\n",
              "4770                           -0.241213\n",
              "XLarge Bags                    -0.154424\n",
              "year_2016                      -0.111437\n",
              "Month_02                       -0.105318\n",
              "new_region_southwest           -0.104548\n",
              "Month_03                       -0.060901\n",
              "Month_12                       -0.053619\n",
              "Month_05                       -0.044079\n",
              "new_region_midwest             -0.043395\n",
              "year_2018                      -0.040577\n",
              "Month_04                       -0.022301\n",
              "new_region_pacific_northwest   -0.013510\n",
              "new_region_southeast           -0.011510\n",
              "Month_06                        0.001848\n",
              "new_region_west_coast           0.032409\n",
              "Month_11                        0.035087\n",
              "Month_07                        0.042494\n",
              "Month_08                        0.076503\n",
              "volume_organic                  0.091445\n",
              "Month_09                        0.113570\n",
              "Month_10                        0.128746\n",
              "new_region_northeast            0.141083\n",
              "new_region_mid_atlantic         0.144576\n",
              "year_2017                       0.182220\n",
              "type_organic                    0.614423\n",
              "AveragePrice                    1.000000\n",
              "Name: AveragePrice, dtype: float64"
            ]
          },
          "metadata": {
            "tags": []
          },
          "execution_count": 64
        }
      ]
    },
    {
      "cell_type": "code",
      "metadata": {
        "id": "3qTN8Xxguvxe",
        "colab_type": "code",
        "colab": {}
      },
      "source": [
        "#for the features I will be selecting type_organic, total volume and 4046. The reason why I am not selecting total bags and small bags is because these are likely to\n",
        "#be correlated with one another and be correlated to the total volume as well. "
      ],
      "execution_count": 0,
      "outputs": []
    },
    {
      "cell_type": "code",
      "metadata": {
        "id": "5tk3wB0T1vo-",
        "colab_type": "code",
        "colab": {}
      },
      "source": [
        "#scaling and normalizing the data...\n",
        "from sklearn.decomposition import PCA\n",
        "from sklearn.preprocessing import StandardScaler\n",
        "from sklearn import linear_model\n",
        "#X = numeric_and_dummies.loc[:, numeric_and_dummies.columns != 'AveragePrice']\n",
        "#X = StandardScaler().fit_transform(X)\n",
        "#sklearn_pca = PCA(n_components=1)\n",
        "#numeric_and_dummies[\"pca_1\"] = sklearn_pca.fit_transform(X)\n",
        "#standardize and normalize"
      ],
      "execution_count": 0,
      "outputs": []
    },
    {
      "cell_type": "code",
      "metadata": {
        "id": "KBkjZyJNw-3g",
        "colab_type": "code",
        "colab": {}
      },
      "source": [
        "numeric_and_dummies.loc[:, numeric_and_dummies.columns != 'AveragePrice'] = StandardScaler().fit_transform(numeric_and_dummies.loc[:, numeric_and_dummies.columns != 'AveragePrice'])\n",
        "#standardizing the values for processing."
      ],
      "execution_count": 0,
      "outputs": []
    },
    {
      "cell_type": "code",
      "metadata": {
        "id": "su6IT9Kt3uhc",
        "colab_type": "code",
        "outputId": "c37627ba-cb5c-4061-ff0b-db62b3735264",
        "colab": {
          "base_uri": "https://localhost:8080/",
          "height": 241
        }
      },
      "source": [
        "numeric_and_dummies.head()"
      ],
      "execution_count": 33,
      "outputs": [
        {
          "output_type": "execute_result",
          "data": {
            "text/html": [
              "<div>\n",
              "<style scoped>\n",
              "    .dataframe tbody tr th:only-of-type {\n",
              "        vertical-align: middle;\n",
              "    }\n",
              "\n",
              "    .dataframe tbody tr th {\n",
              "        vertical-align: top;\n",
              "    }\n",
              "\n",
              "    .dataframe thead th {\n",
              "        text-align: right;\n",
              "    }\n",
              "</style>\n",
              "<table border=\"1\" class=\"dataframe\">\n",
              "  <thead>\n",
              "    <tr style=\"text-align: right;\">\n",
              "      <th></th>\n",
              "      <th>AveragePrice</th>\n",
              "      <th>Total Volume</th>\n",
              "      <th>4046</th>\n",
              "      <th>4225</th>\n",
              "      <th>4770</th>\n",
              "      <th>Total Bags</th>\n",
              "      <th>Small Bags</th>\n",
              "      <th>Large Bags</th>\n",
              "      <th>XLarge Bags</th>\n",
              "      <th>type_organic</th>\n",
              "      <th>year_2016</th>\n",
              "      <th>year_2017</th>\n",
              "      <th>year_2018</th>\n",
              "      <th>Month_02</th>\n",
              "      <th>Month_03</th>\n",
              "      <th>Month_04</th>\n",
              "      <th>Month_05</th>\n",
              "      <th>Month_06</th>\n",
              "      <th>Month_07</th>\n",
              "      <th>Month_08</th>\n",
              "      <th>Month_09</th>\n",
              "      <th>Month_10</th>\n",
              "      <th>Month_11</th>\n",
              "      <th>Month_12</th>\n",
              "      <th>new_region_mid_atlantic</th>\n",
              "      <th>new_region_midwest</th>\n",
              "      <th>new_region_northeast</th>\n",
              "      <th>new_region_pacific_northwest</th>\n",
              "      <th>new_region_southeast</th>\n",
              "      <th>new_region_southwest</th>\n",
              "      <th>new_region_west_coast</th>\n",
              "    </tr>\n",
              "  </thead>\n",
              "  <tbody>\n",
              "    <tr>\n",
              "      <th>0</th>\n",
              "      <td>1.33</td>\n",
              "      <td>-0.387996</td>\n",
              "      <td>-0.354831</td>\n",
              "      <td>-0.295965</td>\n",
              "      <td>-0.297096</td>\n",
              "      <td>-0.394907</td>\n",
              "      <td>-0.386004</td>\n",
              "      <td>-0.302010</td>\n",
              "      <td>-0.240304</td>\n",
              "      <td>-0.999833</td>\n",
              "      <td>-0.666747</td>\n",
              "      <td>-0.675848</td>\n",
              "      <td>-0.27649</td>\n",
              "      <td>-0.323411</td>\n",
              "      <td>-0.334459</td>\n",
              "      <td>-0.288701</td>\n",
              "      <td>-0.300565</td>\n",
              "      <td>-0.276256</td>\n",
              "      <td>-0.300565</td>\n",
              "      <td>-0.288701</td>\n",
              "      <td>-0.27649</td>\n",
              "      <td>-0.300565</td>\n",
              "      <td>-0.288701</td>\n",
              "      <td>3.465150</td>\n",
              "      <td>2.371474</td>\n",
              "      <td>-0.452313</td>\n",
              "      <td>-0.28574</td>\n",
              "      <td>-0.28574</td>\n",
              "      <td>-0.570151</td>\n",
              "      <td>-0.244586</td>\n",
              "      <td>-0.390132</td>\n",
              "    </tr>\n",
              "    <tr>\n",
              "      <th>1</th>\n",
              "      <td>1.35</td>\n",
              "      <td>-0.395640</td>\n",
              "      <td>-0.355535</td>\n",
              "      <td>-0.317683</td>\n",
              "      <td>-0.296887</td>\n",
              "      <td>-0.392689</td>\n",
              "      <td>-0.383118</td>\n",
              "      <td>-0.301973</td>\n",
              "      <td>-0.240304</td>\n",
              "      <td>-0.999833</td>\n",
              "      <td>-0.666747</td>\n",
              "      <td>-0.675848</td>\n",
              "      <td>-0.27649</td>\n",
              "      <td>-0.323411</td>\n",
              "      <td>-0.334459</td>\n",
              "      <td>-0.288701</td>\n",
              "      <td>-0.300565</td>\n",
              "      <td>-0.276256</td>\n",
              "      <td>-0.300565</td>\n",
              "      <td>-0.288701</td>\n",
              "      <td>-0.27649</td>\n",
              "      <td>-0.300565</td>\n",
              "      <td>-0.288701</td>\n",
              "      <td>3.465150</td>\n",
              "      <td>2.371474</td>\n",
              "      <td>-0.452313</td>\n",
              "      <td>-0.28574</td>\n",
              "      <td>-0.28574</td>\n",
              "      <td>-0.570151</td>\n",
              "      <td>-0.244586</td>\n",
              "      <td>-0.390132</td>\n",
              "    </tr>\n",
              "    <tr>\n",
              "      <th>2</th>\n",
              "      <td>0.93</td>\n",
              "      <td>-0.343902</td>\n",
              "      <td>-0.355301</td>\n",
              "      <td>-0.174952</td>\n",
              "      <td>-0.295409</td>\n",
              "      <td>-0.396420</td>\n",
              "      <td>-0.388018</td>\n",
              "      <td>-0.301924</td>\n",
              "      <td>-0.240304</td>\n",
              "      <td>-0.999833</td>\n",
              "      <td>-0.666747</td>\n",
              "      <td>-0.675848</td>\n",
              "      <td>-0.27649</td>\n",
              "      <td>-0.323411</td>\n",
              "      <td>-0.334459</td>\n",
              "      <td>-0.288701</td>\n",
              "      <td>-0.300565</td>\n",
              "      <td>-0.276256</td>\n",
              "      <td>-0.300565</td>\n",
              "      <td>-0.288701</td>\n",
              "      <td>-0.27649</td>\n",
              "      <td>-0.300565</td>\n",
              "      <td>-0.288701</td>\n",
              "      <td>3.465150</td>\n",
              "      <td>2.371474</td>\n",
              "      <td>-0.452313</td>\n",
              "      <td>-0.28574</td>\n",
              "      <td>-0.28574</td>\n",
              "      <td>-0.570151</td>\n",
              "      <td>-0.244586</td>\n",
              "      <td>-0.390132</td>\n",
              "    </tr>\n",
              "    <tr>\n",
              "      <th>3</th>\n",
              "      <td>1.08</td>\n",
              "      <td>-0.375943</td>\n",
              "      <td>-0.354647</td>\n",
              "      <td>-0.257198</td>\n",
              "      <td>-0.296595</td>\n",
              "      <td>-0.402822</td>\n",
              "      <td>-0.396501</td>\n",
              "      <td>-0.301655</td>\n",
              "      <td>-0.240304</td>\n",
              "      <td>-0.999833</td>\n",
              "      <td>-0.666747</td>\n",
              "      <td>-0.675848</td>\n",
              "      <td>-0.27649</td>\n",
              "      <td>-0.323411</td>\n",
              "      <td>-0.334459</td>\n",
              "      <td>-0.288701</td>\n",
              "      <td>-0.300565</td>\n",
              "      <td>-0.276256</td>\n",
              "      <td>-0.300565</td>\n",
              "      <td>-0.288701</td>\n",
              "      <td>-0.27649</td>\n",
              "      <td>-0.300565</td>\n",
              "      <td>-0.288701</td>\n",
              "      <td>3.465150</td>\n",
              "      <td>2.371474</td>\n",
              "      <td>-0.452313</td>\n",
              "      <td>-0.28574</td>\n",
              "      <td>-0.28574</td>\n",
              "      <td>-0.570151</td>\n",
              "      <td>-0.244586</td>\n",
              "      <td>-0.390132</td>\n",
              "    </tr>\n",
              "    <tr>\n",
              "      <th>4</th>\n",
              "      <td>1.28</td>\n",
              "      <td>-0.398775</td>\n",
              "      <td>-0.355016</td>\n",
              "      <td>-0.319454</td>\n",
              "      <td>-0.296530</td>\n",
              "      <td>-0.401800</td>\n",
              "      <td>-0.395393</td>\n",
              "      <td>-0.301094</td>\n",
              "      <td>-0.240304</td>\n",
              "      <td>-0.999833</td>\n",
              "      <td>-0.666747</td>\n",
              "      <td>-0.675848</td>\n",
              "      <td>-0.27649</td>\n",
              "      <td>-0.323411</td>\n",
              "      <td>-0.334459</td>\n",
              "      <td>-0.288701</td>\n",
              "      <td>-0.300565</td>\n",
              "      <td>-0.276256</td>\n",
              "      <td>-0.300565</td>\n",
              "      <td>-0.288701</td>\n",
              "      <td>-0.27649</td>\n",
              "      <td>-0.300565</td>\n",
              "      <td>3.463787</td>\n",
              "      <td>-0.288588</td>\n",
              "      <td>2.371474</td>\n",
              "      <td>-0.452313</td>\n",
              "      <td>-0.28574</td>\n",
              "      <td>-0.28574</td>\n",
              "      <td>-0.570151</td>\n",
              "      <td>-0.244586</td>\n",
              "      <td>-0.390132</td>\n",
              "    </tr>\n",
              "  </tbody>\n",
              "</table>\n",
              "</div>"
            ],
            "text/plain": [
              "   AveragePrice  Total Volume  ...  new_region_southwest  new_region_west_coast\n",
              "0          1.33     -0.387996  ...             -0.244586              -0.390132\n",
              "1          1.35     -0.395640  ...             -0.244586              -0.390132\n",
              "2          0.93     -0.343902  ...             -0.244586              -0.390132\n",
              "3          1.08     -0.375943  ...             -0.244586              -0.390132\n",
              "4          1.28     -0.398775  ...             -0.244586              -0.390132\n",
              "\n",
              "[5 rows x 31 columns]"
            ]
          },
          "metadata": {
            "tags": []
          },
          "execution_count": 33
        }
      ]
    },
    {
      "cell_type": "code",
      "metadata": {
        "id": "7YldSevX34R5",
        "colab_type": "code",
        "outputId": "1c352b8f-d1b9-42ec-f2ef-eb0e8d737ad1",
        "colab": {
          "base_uri": "https://localhost:8080/",
          "height": 119
        }
      },
      "source": [
        "Y = numeric_and_dummies['AveragePrice']\n",
        "X = numeric_and_dummies[['type_organic', 'Total Volume', '4046']]\n",
        "\n",
        "lrm = linear_model.LinearRegression()\n",
        "\n",
        "\n",
        "lrm.fit(X, Y)\n",
        "\n",
        "\n",
        "print('\\nCoefficients: \\n', lrm.coef_)\n",
        "print('\\nIntercept: \\n', lrm.intercept_)"
      ],
      "execution_count": 34,
      "outputs": [
        {
          "output_type": "stream",
          "text": [
            "\n",
            "Coefficients: \n",
            " [ 0.23322602  0.04543505 -0.09785055]\n",
            "\n",
            "Intercept: \n",
            " 1.407619340070348\n"
          ],
          "name": "stdout"
        }
      ]
    },
    {
      "cell_type": "code",
      "metadata": {
        "id": "HwEMkmO04R9A",
        "colab_type": "code",
        "outputId": "92c6f304-b807-4c39-e023-875a8aeee235",
        "colab": {
          "base_uri": "https://localhost:8080/",
          "height": 486
        }
      },
      "source": [
        "import statsmodels.api as sm\n",
        "\n",
        "\n",
        "X = sm.add_constant(X)\n",
        "\n",
        "results = sm.OLS(Y, X).fit()\n",
        "\n",
        "results.summary()"
      ],
      "execution_count": 35,
      "outputs": [
        {
          "output_type": "execute_result",
          "data": {
            "text/html": [
              "<table class=\"simpletable\">\n",
              "<caption>OLS Regression Results</caption>\n",
              "<tr>\n",
              "  <th>Dep. Variable:</th>      <td>AveragePrice</td>   <th>  R-squared:         </th> <td>   0.399</td>\n",
              "</tr>\n",
              "<tr>\n",
              "  <th>Model:</th>                   <td>OLS</td>       <th>  Adj. R-squared:    </th> <td>   0.399</td>\n",
              "</tr>\n",
              "<tr>\n",
              "  <th>Method:</th>             <td>Least Squares</td>  <th>  F-statistic:       </th> <td>   3957.</td>\n",
              "</tr>\n",
              "<tr>\n",
              "  <th>Date:</th>             <td>Tue, 05 May 2020</td> <th>  Prob (F-statistic):</th>  <td>  0.00</td> \n",
              "</tr>\n",
              "<tr>\n",
              "  <th>Time:</th>                 <td>19:20:22</td>     <th>  Log-Likelihood:    </th> <td> -4637.5</td>\n",
              "</tr>\n",
              "<tr>\n",
              "  <th>No. Observations:</th>      <td> 17911</td>      <th>  AIC:               </th> <td>   9283.</td>\n",
              "</tr>\n",
              "<tr>\n",
              "  <th>Df Residuals:</th>          <td> 17907</td>      <th>  BIC:               </th> <td>   9314.</td>\n",
              "</tr>\n",
              "<tr>\n",
              "  <th>Df Model:</th>              <td>     3</td>      <th>                     </th>     <td> </td>   \n",
              "</tr>\n",
              "<tr>\n",
              "  <th>Covariance Type:</th>      <td>nonrobust</td>    <th>                     </th>     <td> </td>   \n",
              "</tr>\n",
              "</table>\n",
              "<table class=\"simpletable\">\n",
              "<tr>\n",
              "        <td></td>          <th>coef</th>     <th>std err</th>      <th>t</th>      <th>P>|t|</th>  <th>[0.025</th>    <th>0.975]</th>  \n",
              "</tr>\n",
              "<tr>\n",
              "  <th>const</th>        <td>    1.4076</td> <td>    0.002</td> <td>  600.879</td> <td> 0.000</td> <td>    1.403</td> <td>    1.412</td>\n",
              "</tr>\n",
              "<tr>\n",
              "  <th>type_organic</th> <td>    0.2332</td> <td>    0.003</td> <td>   90.397</td> <td> 0.000</td> <td>    0.228</td> <td>    0.238</td>\n",
              "</tr>\n",
              "<tr>\n",
              "  <th>Total Volume</th> <td>    0.0454</td> <td>    0.005</td> <td>    8.378</td> <td> 0.000</td> <td>    0.035</td> <td>    0.056</td>\n",
              "</tr>\n",
              "<tr>\n",
              "  <th>4046</th>         <td>   -0.0979</td> <td>    0.005</td> <td>  -18.599</td> <td> 0.000</td> <td>   -0.108</td> <td>   -0.088</td>\n",
              "</tr>\n",
              "</table>\n",
              "<table class=\"simpletable\">\n",
              "<tr>\n",
              "  <th>Omnibus:</th>       <td>988.507</td> <th>  Durbin-Watson:     </th> <td>   0.315</td>\n",
              "</tr>\n",
              "<tr>\n",
              "  <th>Prob(Omnibus):</th> <td> 0.000</td>  <th>  Jarque-Bera (JB):  </th> <td>1594.751</td>\n",
              "</tr>\n",
              "<tr>\n",
              "  <th>Skew:</th>          <td> 0.460</td>  <th>  Prob(JB):          </th> <td>    0.00</td>\n",
              "</tr>\n",
              "<tr>\n",
              "  <th>Kurtosis:</th>      <td> 4.136</td>  <th>  Cond. No.          </th> <td>    4.59</td>\n",
              "</tr>\n",
              "</table><br/><br/>Warnings:<br/>[1] Standard Errors assume that the covariance matrix of the errors is correctly specified."
            ],
            "text/plain": [
              "<class 'statsmodels.iolib.summary.Summary'>\n",
              "\"\"\"\n",
              "                            OLS Regression Results                            \n",
              "==============================================================================\n",
              "Dep. Variable:           AveragePrice   R-squared:                       0.399\n",
              "Model:                            OLS   Adj. R-squared:                  0.399\n",
              "Method:                 Least Squares   F-statistic:                     3957.\n",
              "Date:                Tue, 05 May 2020   Prob (F-statistic):               0.00\n",
              "Time:                        19:20:22   Log-Likelihood:                -4637.5\n",
              "No. Observations:               17911   AIC:                             9283.\n",
              "Df Residuals:                   17907   BIC:                             9314.\n",
              "Df Model:                           3                                         \n",
              "Covariance Type:            nonrobust                                         \n",
              "================================================================================\n",
              "                   coef    std err          t      P>|t|      [0.025      0.975]\n",
              "--------------------------------------------------------------------------------\n",
              "const            1.4076      0.002    600.879      0.000       1.403       1.412\n",
              "type_organic     0.2332      0.003     90.397      0.000       0.228       0.238\n",
              "Total Volume     0.0454      0.005      8.378      0.000       0.035       0.056\n",
              "4046            -0.0979      0.005    -18.599      0.000      -0.108      -0.088\n",
              "==============================================================================\n",
              "Omnibus:                      988.507   Durbin-Watson:                   0.315\n",
              "Prob(Omnibus):                  0.000   Jarque-Bera (JB):             1594.751\n",
              "Skew:                           0.460   Prob(JB):                         0.00\n",
              "Kurtosis:                       4.136   Cond. No.                         4.59\n",
              "==============================================================================\n",
              "\n",
              "Warnings:\n",
              "[1] Standard Errors assume that the covariance matrix of the errors is correctly specified.\n",
              "\"\"\""
            ]
          },
          "metadata": {
            "tags": []
          },
          "execution_count": 35
        }
      ]
    },
    {
      "cell_type": "code",
      "metadata": {
        "id": "WJnlHFeBZ7mw",
        "colab_type": "code",
        "outputId": "463944c6-9ecf-4ff4-8cd1-e47716940b51",
        "colab": {
          "base_uri": "https://localhost:8080/",
          "height": 51
        }
      },
      "source": [
        "X_train, X_test, y_train, y_test = train_test_split(X, Y, test_size = 0.2, random_state = 465)\n",
        "\n",
        "print(\"Training set obs: {}\".format(X_train.shape[0]))\n",
        "print(\"Test set obs: {}\".format(X_test.shape[0]))"
      ],
      "execution_count": 36,
      "outputs": [
        {
          "output_type": "stream",
          "text": [
            "Training set obs: 14328\n",
            "Test set obs: 3583\n"
          ],
          "name": "stdout"
        }
      ]
    },
    {
      "cell_type": "code",
      "metadata": {
        "id": "2xDq5zasaD-_",
        "colab_type": "code",
        "outputId": "b63ecfb9-e62b-4b50-8faf-96f8581de67e",
        "colab": {
          "base_uri": "https://localhost:8080/",
          "height": 486
        }
      },
      "source": [
        "X_train = sm.add_constant(X_train)\n",
        "results = sm.OLS(y_train, X_train).fit()\n",
        "\n",
        "\n",
        "results.summary()"
      ],
      "execution_count": 37,
      "outputs": [
        {
          "output_type": "execute_result",
          "data": {
            "text/html": [
              "<table class=\"simpletable\">\n",
              "<caption>OLS Regression Results</caption>\n",
              "<tr>\n",
              "  <th>Dep. Variable:</th>      <td>AveragePrice</td>   <th>  R-squared:         </th> <td>   0.400</td>\n",
              "</tr>\n",
              "<tr>\n",
              "  <th>Model:</th>                   <td>OLS</td>       <th>  Adj. R-squared:    </th> <td>   0.400</td>\n",
              "</tr>\n",
              "<tr>\n",
              "  <th>Method:</th>             <td>Least Squares</td>  <th>  F-statistic:       </th> <td>   3184.</td>\n",
              "</tr>\n",
              "<tr>\n",
              "  <th>Date:</th>             <td>Tue, 05 May 2020</td> <th>  Prob (F-statistic):</th>  <td>  0.00</td> \n",
              "</tr>\n",
              "<tr>\n",
              "  <th>Time:</th>                 <td>19:20:22</td>     <th>  Log-Likelihood:    </th> <td> -3740.9</td>\n",
              "</tr>\n",
              "<tr>\n",
              "  <th>No. Observations:</th>      <td> 14328</td>      <th>  AIC:               </th> <td>   7490.</td>\n",
              "</tr>\n",
              "<tr>\n",
              "  <th>Df Residuals:</th>          <td> 14324</td>      <th>  BIC:               </th> <td>   7520.</td>\n",
              "</tr>\n",
              "<tr>\n",
              "  <th>Df Model:</th>              <td>     3</td>      <th>                     </th>     <td> </td>   \n",
              "</tr>\n",
              "<tr>\n",
              "  <th>Covariance Type:</th>      <td>nonrobust</td>    <th>                     </th>     <td> </td>   \n",
              "</tr>\n",
              "</table>\n",
              "<table class=\"simpletable\">\n",
              "<tr>\n",
              "        <td></td>          <th>coef</th>     <th>std err</th>      <th>t</th>      <th>P>|t|</th>  <th>[0.025</th>    <th>0.975]</th>  \n",
              "</tr>\n",
              "<tr>\n",
              "  <th>const</th>        <td>    1.4104</td> <td>    0.003</td> <td>  537.302</td> <td> 0.000</td> <td>    1.405</td> <td>    1.416</td>\n",
              "</tr>\n",
              "<tr>\n",
              "  <th>type_organic</th> <td>    0.2343</td> <td>    0.003</td> <td>   80.999</td> <td> 0.000</td> <td>    0.229</td> <td>    0.240</td>\n",
              "</tr>\n",
              "<tr>\n",
              "  <th>Total Volume</th> <td>    0.0478</td> <td>    0.006</td> <td>    7.977</td> <td> 0.000</td> <td>    0.036</td> <td>    0.060</td>\n",
              "</tr>\n",
              "<tr>\n",
              "  <th>4046</th>         <td>   -0.1000</td> <td>    0.006</td> <td>  -17.247</td> <td> 0.000</td> <td>   -0.111</td> <td>   -0.089</td>\n",
              "</tr>\n",
              "</table>\n",
              "<table class=\"simpletable\">\n",
              "<tr>\n",
              "  <th>Omnibus:</th>       <td>746.311</td> <th>  Durbin-Watson:     </th> <td>   1.976</td> \n",
              "</tr>\n",
              "<tr>\n",
              "  <th>Prob(Omnibus):</th> <td> 0.000</td>  <th>  Jarque-Bera (JB):  </th> <td>1185.841</td> \n",
              "</tr>\n",
              "<tr>\n",
              "  <th>Skew:</th>          <td> 0.444</td>  <th>  Prob(JB):          </th> <td>3.15e-258</td>\n",
              "</tr>\n",
              "<tr>\n",
              "  <th>Kurtosis:</th>      <td> 4.094</td>  <th>  Cond. No.          </th> <td>    4.58</td> \n",
              "</tr>\n",
              "</table><br/><br/>Warnings:<br/>[1] Standard Errors assume that the covariance matrix of the errors is correctly specified."
            ],
            "text/plain": [
              "<class 'statsmodels.iolib.summary.Summary'>\n",
              "\"\"\"\n",
              "                            OLS Regression Results                            \n",
              "==============================================================================\n",
              "Dep. Variable:           AveragePrice   R-squared:                       0.400\n",
              "Model:                            OLS   Adj. R-squared:                  0.400\n",
              "Method:                 Least Squares   F-statistic:                     3184.\n",
              "Date:                Tue, 05 May 2020   Prob (F-statistic):               0.00\n",
              "Time:                        19:20:22   Log-Likelihood:                -3740.9\n",
              "No. Observations:               14328   AIC:                             7490.\n",
              "Df Residuals:                   14324   BIC:                             7520.\n",
              "Df Model:                           3                                         \n",
              "Covariance Type:            nonrobust                                         \n",
              "================================================================================\n",
              "                   coef    std err          t      P>|t|      [0.025      0.975]\n",
              "--------------------------------------------------------------------------------\n",
              "const            1.4104      0.003    537.302      0.000       1.405       1.416\n",
              "type_organic     0.2343      0.003     80.999      0.000       0.229       0.240\n",
              "Total Volume     0.0478      0.006      7.977      0.000       0.036       0.060\n",
              "4046            -0.1000      0.006    -17.247      0.000      -0.111      -0.089\n",
              "==============================================================================\n",
              "Omnibus:                      746.311   Durbin-Watson:                   1.976\n",
              "Prob(Omnibus):                  0.000   Jarque-Bera (JB):             1185.841\n",
              "Skew:                           0.444   Prob(JB):                    3.15e-258\n",
              "Kurtosis:                       4.094   Cond. No.                         4.58\n",
              "==============================================================================\n",
              "\n",
              "Warnings:\n",
              "[1] Standard Errors assume that the covariance matrix of the errors is correctly specified.\n",
              "\"\"\""
            ]
          },
          "metadata": {
            "tags": []
          },
          "execution_count": 37
        }
      ]
    },
    {
      "cell_type": "code",
      "metadata": {
        "id": "fGoCzGqScfM0",
        "colab_type": "code",
        "colab": {}
      },
      "source": [
        "X_test = sm.add_constant(X_test)\n",
        "\n",
        "Y_pred = results.predict(X_test)"
      ],
      "execution_count": 0,
      "outputs": []
    },
    {
      "cell_type": "code",
      "metadata": {
        "id": "Jhh4aTlycfuH",
        "colab_type": "code",
        "outputId": "61de4b3e-bb91-4287-aec9-36e8914cc71c",
        "colab": {
          "base_uri": "https://localhost:8080/",
          "height": 363
        }
      },
      "source": [
        "plt.scatter(y_test, Y_pred)\n",
        "plt.plot(y_test, y_test, color = 'pink')\n",
        "plt.xlabel(\"true values\")\n",
        "plt.ylabel(\"predicted values\")\n",
        "plt.title(\"Charges: true and predicted values\")\n",
        "plt.show()\n",
        "\n",
        "print(\"Mean absolute error: {}\".format(mean_absolute_error(y_test, Y_pred)))\n",
        "print(\"Mean squared error: {}\".format(mse(y_test, Y_pred)))\n",
        "print(\"Root mean squared error: {}\".format(rmse(y_test, Y_pred)))\n",
        "print(\"Mean absolute percentage error: {}\".format(np.mean(np.abs((y_test - Y_pred) / y_test)) * 100))\n",
        "#while the model doesn't appear to be doing a good job at predicting values, it is generally better with the lower values."
      ],
      "execution_count": 39,
      "outputs": [
        {
          "output_type": "display_data",
          "data": {
            "image/png": "[encoded data removed]",
            "text/plain": [
              "<Figure size 432x288 with 1 Axes>"
            ]
          },
          "metadata": {
            "tags": [],
            "needs_background": "light"
          }
        },
        {
          "output_type": "stream",
          "text": [
            "Mean absolute error: 0.23983195410041122\n",
            "Mean squared error: 0.09660921366401531\n",
            "Root mean squared error: 0.31082022724400565\n",
            "Mean absolute percentage error: 18.61607641240454\n"
          ],
          "name": "stdout"
        }
      ]
    },
    {
      "cell_type": "markdown",
      "metadata": {
        "id": "_tUrJ9gL7WaC",
        "colab_type": "text"
      },
      "source": [
        "As shown in the above, the r squared and adjusted r squared values are low telling us that there is room for improvement and this one is likely to underfit. However, the p-value of the f-statistic is 0 telling us that what information we do have so far is valuable. In order to lessen the amount of underfitting, I am going to play around with the features to get a more accurate picture."
      ]
    },
    {
      "cell_type": "code",
      "metadata": {
        "id": "DYemtBss4fcR",
        "colab_type": "code",
        "outputId": "183fbe95-a427-4993-91e8-71e09c949823",
        "colab": {
          "base_uri": "https://localhost:8080/",
          "height": 136
        }
      },
      "source": [
        "numeric_and_dummies['volume_organic'] = numeric_and_dummies['Total Volume'] * numeric_and_dummies['type_organic']\n",
        "\n",
        "Y = numeric_and_dummies['AveragePrice']\n",
        "X = numeric_and_dummies[['type_organic', 'Total Volume', '4046', 'volume_organic', 'new_region_mid_atlantic', 'new_region_northeast', 'new_region_west_coast', 'new_region_southeast', 'new_region_pacific_northwest', 'new_region_midwest', 'new_region_southwest']]\n",
        "\n",
        "lrm = linear_model.LinearRegression()\n",
        "\n",
        "\n",
        "lrm.fit(X, Y)\n",
        "\n",
        "\n",
        "print('\\nCoefficients: \\n', lrm.coef_)\n",
        "print('\\nIntercept: \\n', lrm.intercept_)"
      ],
      "execution_count": 40,
      "outputs": [
        {
          "output_type": "stream",
          "text": [
            "\n",
            "Coefficients: \n",
            " [-0.04157562 -0.66127238 -0.04329715 -0.66118873  0.10526249  0.0985202\n",
            "  0.08783459  0.06713067  0.03747945  0.04950477  0.00106596]\n",
            "\n",
            "Intercept: \n",
            " 1.132881258009286\n"
          ],
          "name": "stdout"
        }
      ]
    },
    {
      "cell_type": "code",
      "metadata": {
        "id": "w1s16oxpRwGc",
        "colab_type": "code",
        "outputId": "7f2ccf30-52e4-4bba-914d-8a9947509d9e",
        "colab": {
          "base_uri": "https://localhost:8080/",
          "height": 654
        }
      },
      "source": [
        "import statsmodels.api as sm\n",
        "\n",
        "\n",
        "X = sm.add_constant(X)\n",
        "\n",
        "results = sm.OLS(Y, X).fit()\n",
        "\n",
        "results.summary()"
      ],
      "execution_count": 41,
      "outputs": [
        {
          "output_type": "execute_result",
          "data": {
            "text/html": [
              "<table class=\"simpletable\">\n",
              "<caption>OLS Regression Results</caption>\n",
              "<tr>\n",
              "  <th>Dep. Variable:</th>      <td>AveragePrice</td>   <th>  R-squared:         </th> <td>   0.470</td>\n",
              "</tr>\n",
              "<tr>\n",
              "  <th>Model:</th>                   <td>OLS</td>       <th>  Adj. R-squared:    </th> <td>   0.470</td>\n",
              "</tr>\n",
              "<tr>\n",
              "  <th>Method:</th>             <td>Least Squares</td>  <th>  F-statistic:       </th> <td>   1446.</td>\n",
              "</tr>\n",
              "<tr>\n",
              "  <th>Date:</th>             <td>Tue, 05 May 2020</td> <th>  Prob (F-statistic):</th>  <td>  0.00</td> \n",
              "</tr>\n",
              "<tr>\n",
              "  <th>Time:</th>                 <td>19:20:23</td>     <th>  Log-Likelihood:    </th> <td> -3498.7</td>\n",
              "</tr>\n",
              "<tr>\n",
              "  <th>No. Observations:</th>      <td> 17911</td>      <th>  AIC:               </th> <td>   7021.</td>\n",
              "</tr>\n",
              "<tr>\n",
              "  <th>Df Residuals:</th>          <td> 17899</td>      <th>  BIC:               </th> <td>   7115.</td>\n",
              "</tr>\n",
              "<tr>\n",
              "  <th>Df Model:</th>              <td>    11</td>      <th>                     </th>     <td> </td>   \n",
              "</tr>\n",
              "<tr>\n",
              "  <th>Covariance Type:</th>      <td>nonrobust</td>    <th>                     </th>     <td> </td>   \n",
              "</tr>\n",
              "</table>\n",
              "<table class=\"simpletable\">\n",
              "<tr>\n",
              "                <td></td>                  <th>coef</th>     <th>std err</th>      <th>t</th>      <th>P>|t|</th>  <th>[0.025</th>    <th>0.975]</th>  \n",
              "</tr>\n",
              "<tr>\n",
              "  <th>const</th>                        <td>    1.1329</td> <td>    0.016</td> <td>   70.123</td> <td> 0.000</td> <td>    1.101</td> <td>    1.165</td>\n",
              "</tr>\n",
              "<tr>\n",
              "  <th>type_organic</th>                 <td>   -0.0416</td> <td>    0.016</td> <td>   -2.556</td> <td> 0.011</td> <td>   -0.073</td> <td>   -0.010</td>\n",
              "</tr>\n",
              "<tr>\n",
              "  <th>Total Volume</th>                 <td>   -0.6613</td> <td>    0.039</td> <td>  -16.997</td> <td> 0.000</td> <td>   -0.738</td> <td>   -0.585</td>\n",
              "</tr>\n",
              "<tr>\n",
              "  <th>4046</th>                         <td>   -0.0433</td> <td>    0.005</td> <td>   -8.255</td> <td> 0.000</td> <td>   -0.054</td> <td>   -0.033</td>\n",
              "</tr>\n",
              "<tr>\n",
              "  <th>volume_organic</th>               <td>   -0.6612</td> <td>    0.039</td> <td>  -17.165</td> <td> 0.000</td> <td>   -0.737</td> <td>   -0.586</td>\n",
              "</tr>\n",
              "<tr>\n",
              "  <th>new_region_mid_atlantic</th>      <td>    0.1053</td> <td>    0.003</td> <td>   30.739</td> <td> 0.000</td> <td>    0.099</td> <td>    0.112</td>\n",
              "</tr>\n",
              "<tr>\n",
              "  <th>new_region_northeast</th>         <td>    0.0985</td> <td>    0.003</td> <td>   33.158</td> <td> 0.000</td> <td>    0.093</td> <td>    0.104</td>\n",
              "</tr>\n",
              "<tr>\n",
              "  <th>new_region_west_coast</th>        <td>    0.0878</td> <td>    0.003</td> <td>   27.519</td> <td> 0.000</td> <td>    0.082</td> <td>    0.094</td>\n",
              "</tr>\n",
              "<tr>\n",
              "  <th>new_region_southeast</th>         <td>    0.0671</td> <td>    0.004</td> <td>   17.802</td> <td> 0.000</td> <td>    0.060</td> <td>    0.075</td>\n",
              "</tr>\n",
              "<tr>\n",
              "  <th>new_region_pacific_northwest</th> <td>    0.0375</td> <td>    0.003</td> <td>   12.832</td> <td> 0.000</td> <td>    0.032</td> <td>    0.043</td>\n",
              "</tr>\n",
              "<tr>\n",
              "  <th>new_region_midwest</th>           <td>    0.0495</td> <td>    0.003</td> <td>   14.297</td> <td> 0.000</td> <td>    0.043</td> <td>    0.056</td>\n",
              "</tr>\n",
              "<tr>\n",
              "  <th>new_region_southwest</th>         <td>    0.0011</td> <td>    0.003</td> <td>    0.390</td> <td> 0.697</td> <td>   -0.004</td> <td>    0.006</td>\n",
              "</tr>\n",
              "</table>\n",
              "<table class=\"simpletable\">\n",
              "<tr>\n",
              "  <th>Omnibus:</th>       <td>1344.711</td> <th>  Durbin-Watson:     </th> <td>   0.338</td>\n",
              "</tr>\n",
              "<tr>\n",
              "  <th>Prob(Omnibus):</th>  <td> 0.000</td>  <th>  Jarque-Bera (JB):  </th> <td>2539.986</td>\n",
              "</tr>\n",
              "<tr>\n",
              "  <th>Skew:</th>           <td> 0.533</td>  <th>  Prob(JB):          </th> <td>    0.00</td>\n",
              "</tr>\n",
              "<tr>\n",
              "  <th>Kurtosis:</th>       <td> 4.506</td>  <th>  Cond. No.          </th> <td>    46.0</td>\n",
              "</tr>\n",
              "</table><br/><br/>Warnings:<br/>[1] Standard Errors assume that the covariance matrix of the errors is correctly specified."
            ],
            "text/plain": [
              "<class 'statsmodels.iolib.summary.Summary'>\n",
              "\"\"\"\n",
              "                            OLS Regression Results                            \n",
              "==============================================================================\n",
              "Dep. Variable:           AveragePrice   R-squared:                       0.470\n",
              "Model:                            OLS   Adj. R-squared:                  0.470\n",
              "Method:                 Least Squares   F-statistic:                     1446.\n",
              "Date:                Tue, 05 May 2020   Prob (F-statistic):               0.00\n",
              "Time:                        19:20:23   Log-Likelihood:                -3498.7\n",
              "No. Observations:               17911   AIC:                             7021.\n",
              "Df Residuals:                   17899   BIC:                             7115.\n",
              "Df Model:                          11                                         \n",
              "Covariance Type:            nonrobust                                         \n",
              "================================================================================================\n",
              "                                   coef    std err          t      P>|t|      [0.025      0.975]\n",
              "------------------------------------------------------------------------------------------------\n",
              "const                            1.1329      0.016     70.123      0.000       1.101       1.165\n",
              "type_organic                    -0.0416      0.016     -2.556      0.011      -0.073      -0.010\n",
              "Total Volume                    -0.6613      0.039    -16.997      0.000      -0.738      -0.585\n",
              "4046                            -0.0433      0.005     -8.255      0.000      -0.054      -0.033\n",
              "volume_organic                  -0.6612      0.039    -17.165      0.000      -0.737      -0.586\n",
              "new_region_mid_atlantic          0.1053      0.003     30.739      0.000       0.099       0.112\n",
              "new_region_northeast             0.0985      0.003     33.158      0.000       0.093       0.104\n",
              "new_region_west_coast            0.0878      0.003     27.519      0.000       0.082       0.094\n",
              "new_region_southeast             0.0671      0.004     17.802      0.000       0.060       0.075\n",
              "new_region_pacific_northwest     0.0375      0.003     12.832      0.000       0.032       0.043\n",
              "new_region_midwest               0.0495      0.003     14.297      0.000       0.043       0.056\n",
              "new_region_southwest             0.0011      0.003      0.390      0.697      -0.004       0.006\n",
              "==============================================================================\n",
              "Omnibus:                     1344.711   Durbin-Watson:                   0.338\n",
              "Prob(Omnibus):                  0.000   Jarque-Bera (JB):             2539.986\n",
              "Skew:                           0.533   Prob(JB):                         0.00\n",
              "Kurtosis:                       4.506   Cond. No.                         46.0\n",
              "==============================================================================\n",
              "\n",
              "Warnings:\n",
              "[1] Standard Errors assume that the covariance matrix of the errors is correctly specified.\n",
              "\"\"\""
            ]
          },
          "metadata": {
            "tags": []
          },
          "execution_count": 41
        }
      ]
    },
    {
      "cell_type": "markdown",
      "metadata": {
        "id": "3ICJVWHAYMpm",
        "colab_type": "text"
      },
      "source": [
        "The above selected features appear to do a better job at predicting the outcome. While the f-statistic is lower for this one, the adjusted r squared, aic, and bic tell us that the latter model is more favorable."
      ]
    },
    {
      "cell_type": "code",
      "metadata": {
        "id": "8Cf9fWNmRwwR",
        "colab_type": "code",
        "outputId": "edbd599e-3d25-4a83-aa1f-dec549b2b27c",
        "colab": {
          "base_uri": "https://localhost:8080/",
          "height": 51
        }
      },
      "source": [
        "X_train, X_test, y_train, y_test = train_test_split(X, Y, test_size = 0.2, random_state = 465)\n",
        "\n",
        "print(\"Training set obs: {}\".format(X_train.shape[0]))\n",
        "print(\"Test set obs: {}\".format(X_test.shape[0]))"
      ],
      "execution_count": 42,
      "outputs": [
        {
          "output_type": "stream",
          "text": [
            "Training set obs: 14328\n",
            "Test set obs: 3583\n"
          ],
          "name": "stdout"
        }
      ]
    },
    {
      "cell_type": "code",
      "metadata": {
        "id": "k5mmcS_CY52x",
        "colab_type": "code",
        "outputId": "4a3864ce-7ce5-4ae3-82f3-22ea9b50b9db",
        "colab": {
          "base_uri": "https://localhost:8080/",
          "height": 654
        }
      },
      "source": [
        "X_train = sm.add_constant(X_train)\n",
        "results = sm.OLS(y_train, X_train).fit()\n",
        "\n",
        "\n",
        "results.summary()\n",
        "\n",
        "#this model also performs better on the training set as seen below..."
      ],
      "execution_count": 43,
      "outputs": [
        {
          "output_type": "execute_result",
          "data": {
            "text/html": [
              "<table class=\"simpletable\">\n",
              "<caption>OLS Regression Results</caption>\n",
              "<tr>\n",
              "  <th>Dep. Variable:</th>      <td>AveragePrice</td>   <th>  R-squared:         </th> <td>   0.472</td>\n",
              "</tr>\n",
              "<tr>\n",
              "  <th>Model:</th>                   <td>OLS</td>       <th>  Adj. R-squared:    </th> <td>   0.471</td>\n",
              "</tr>\n",
              "<tr>\n",
              "  <th>Method:</th>             <td>Least Squares</td>  <th>  F-statistic:       </th> <td>   1162.</td>\n",
              "</tr>\n",
              "<tr>\n",
              "  <th>Date:</th>             <td>Tue, 05 May 2020</td> <th>  Prob (F-statistic):</th>  <td>  0.00</td> \n",
              "</tr>\n",
              "<tr>\n",
              "  <th>Time:</th>                 <td>19:20:23</td>     <th>  Log-Likelihood:    </th> <td> -2830.6</td>\n",
              "</tr>\n",
              "<tr>\n",
              "  <th>No. Observations:</th>      <td> 14328</td>      <th>  AIC:               </th> <td>   5685.</td>\n",
              "</tr>\n",
              "<tr>\n",
              "  <th>Df Residuals:</th>          <td> 14316</td>      <th>  BIC:               </th> <td>   5776.</td>\n",
              "</tr>\n",
              "<tr>\n",
              "  <th>Df Model:</th>              <td>    11</td>      <th>                     </th>     <td> </td>   \n",
              "</tr>\n",
              "<tr>\n",
              "  <th>Covariance Type:</th>      <td>nonrobust</td>    <th>                     </th>     <td> </td>   \n",
              "</tr>\n",
              "</table>\n",
              "<table class=\"simpletable\">\n",
              "<tr>\n",
              "                <td></td>                  <th>coef</th>     <th>std err</th>      <th>t</th>      <th>P>|t|</th>  <th>[0.025</th>    <th>0.975]</th>  \n",
              "</tr>\n",
              "<tr>\n",
              "  <th>const</th>                        <td>    1.1312</td> <td>    0.018</td> <td>   61.634</td> <td> 0.000</td> <td>    1.095</td> <td>    1.167</td>\n",
              "</tr>\n",
              "<tr>\n",
              "  <th>type_organic</th>                 <td>   -0.0458</td> <td>    0.018</td> <td>   -2.478</td> <td> 0.013</td> <td>   -0.082</td> <td>   -0.010</td>\n",
              "</tr>\n",
              "<tr>\n",
              "  <th>Total Volume</th>                 <td>   -0.6717</td> <td>    0.044</td> <td>  -15.198</td> <td> 0.000</td> <td>   -0.758</td> <td>   -0.585</td>\n",
              "</tr>\n",
              "<tr>\n",
              "  <th>4046</th>                         <td>   -0.0437</td> <td>    0.006</td> <td>   -7.536</td> <td> 0.000</td> <td>   -0.055</td> <td>   -0.032</td>\n",
              "</tr>\n",
              "<tr>\n",
              "  <th>volume_organic</th>               <td>   -0.6717</td> <td>    0.044</td> <td>  -15.347</td> <td> 0.000</td> <td>   -0.757</td> <td>   -0.586</td>\n",
              "</tr>\n",
              "<tr>\n",
              "  <th>new_region_mid_atlantic</th>      <td>    0.1051</td> <td>    0.004</td> <td>   27.389</td> <td> 0.000</td> <td>    0.098</td> <td>    0.113</td>\n",
              "</tr>\n",
              "<tr>\n",
              "  <th>new_region_northeast</th>         <td>    0.0993</td> <td>    0.003</td> <td>   29.889</td> <td> 0.000</td> <td>    0.093</td> <td>    0.106</td>\n",
              "</tr>\n",
              "<tr>\n",
              "  <th>new_region_west_coast</th>        <td>    0.0889</td> <td>    0.004</td> <td>   24.730</td> <td> 0.000</td> <td>    0.082</td> <td>    0.096</td>\n",
              "</tr>\n",
              "<tr>\n",
              "  <th>new_region_southeast</th>         <td>    0.0658</td> <td>    0.004</td> <td>   15.584</td> <td> 0.000</td> <td>    0.058</td> <td>    0.074</td>\n",
              "</tr>\n",
              "<tr>\n",
              "  <th>new_region_pacific_northwest</th> <td>    0.0400</td> <td>    0.003</td> <td>   12.203</td> <td> 0.000</td> <td>    0.034</td> <td>    0.046</td>\n",
              "</tr>\n",
              "<tr>\n",
              "  <th>new_region_midwest</th>           <td>    0.0489</td> <td>    0.004</td> <td>   12.577</td> <td> 0.000</td> <td>    0.041</td> <td>    0.057</td>\n",
              "</tr>\n",
              "<tr>\n",
              "  <th>new_region_southwest</th>         <td>    0.0019</td> <td>    0.003</td> <td>    0.635</td> <td> 0.525</td> <td>   -0.004</td> <td>    0.008</td>\n",
              "</tr>\n",
              "</table>\n",
              "<table class=\"simpletable\">\n",
              "<tr>\n",
              "  <th>Omnibus:</th>       <td>1029.447</td> <th>  Durbin-Watson:     </th> <td>   1.976</td>\n",
              "</tr>\n",
              "<tr>\n",
              "  <th>Prob(Omnibus):</th>  <td> 0.000</td>  <th>  Jarque-Bera (JB):  </th> <td>1929.893</td>\n",
              "</tr>\n",
              "<tr>\n",
              "  <th>Skew:</th>           <td> 0.516</td>  <th>  Prob(JB):          </th> <td>    0.00</td>\n",
              "</tr>\n",
              "<tr>\n",
              "  <th>Kurtosis:</th>       <td> 4.472</td>  <th>  Cond. No.          </th> <td>    47.2</td>\n",
              "</tr>\n",
              "</table><br/><br/>Warnings:<br/>[1] Standard Errors assume that the covariance matrix of the errors is correctly specified."
            ],
            "text/plain": [
              "<class 'statsmodels.iolib.summary.Summary'>\n",
              "\"\"\"\n",
              "                            OLS Regression Results                            \n",
              "==============================================================================\n",
              "Dep. Variable:           AveragePrice   R-squared:                       0.472\n",
              "Model:                            OLS   Adj. R-squared:                  0.471\n",
              "Method:                 Least Squares   F-statistic:                     1162.\n",
              "Date:                Tue, 05 May 2020   Prob (F-statistic):               0.00\n",
              "Time:                        19:20:23   Log-Likelihood:                -2830.6\n",
              "No. Observations:               14328   AIC:                             5685.\n",
              "Df Residuals:                   14316   BIC:                             5776.\n",
              "Df Model:                          11                                         \n",
              "Covariance Type:            nonrobust                                         \n",
              "================================================================================================\n",
              "                                   coef    std err          t      P>|t|      [0.025      0.975]\n",
              "------------------------------------------------------------------------------------------------\n",
              "const                            1.1312      0.018     61.634      0.000       1.095       1.167\n",
              "type_organic                    -0.0458      0.018     -2.478      0.013      -0.082      -0.010\n",
              "Total Volume                    -0.6717      0.044    -15.198      0.000      -0.758      -0.585\n",
              "4046                            -0.0437      0.006     -7.536      0.000      -0.055      -0.032\n",
              "volume_organic                  -0.6717      0.044    -15.347      0.000      -0.757      -0.586\n",
              "new_region_mid_atlantic          0.1051      0.004     27.389      0.000       0.098       0.113\n",
              "new_region_northeast             0.0993      0.003     29.889      0.000       0.093       0.106\n",
              "new_region_west_coast            0.0889      0.004     24.730      0.000       0.082       0.096\n",
              "new_region_southeast             0.0658      0.004     15.584      0.000       0.058       0.074\n",
              "new_region_pacific_northwest     0.0400      0.003     12.203      0.000       0.034       0.046\n",
              "new_region_midwest               0.0489      0.004     12.577      0.000       0.041       0.057\n",
              "new_region_southwest             0.0019      0.003      0.635      0.525      -0.004       0.008\n",
              "==============================================================================\n",
              "Omnibus:                     1029.447   Durbin-Watson:                   1.976\n",
              "Prob(Omnibus):                  0.000   Jarque-Bera (JB):             1929.893\n",
              "Skew:                           0.516   Prob(JB):                         0.00\n",
              "Kurtosis:                       4.472   Cond. No.                         47.2\n",
              "==============================================================================\n",
              "\n",
              "Warnings:\n",
              "[1] Standard Errors assume that the covariance matrix of the errors is correctly specified.\n",
              "\"\"\""
            ]
          },
          "metadata": {
            "tags": []
          },
          "execution_count": 43
        }
      ]
    },
    {
      "cell_type": "code",
      "metadata": {
        "id": "jNpranYKZCQA",
        "colab_type": "code",
        "colab": {}
      },
      "source": [
        "X_test = sm.add_constant(X_test)\n",
        "\n",
        "Y_pred = results.predict(X_test)"
      ],
      "execution_count": 0,
      "outputs": []
    },
    {
      "cell_type": "code",
      "metadata": {
        "id": "XHQI7zEIbRn8",
        "colab_type": "code",
        "outputId": "b63934b7-ca2c-4d52-ad30-88e95d1d66db",
        "colab": {
          "base_uri": "https://localhost:8080/",
          "height": 363
        }
      },
      "source": [
        "plt.scatter(y_test, Y_pred)\n",
        "plt.plot(y_test, y_test, color = 'pink')\n",
        "plt.xlabel(\"true values\")\n",
        "plt.ylabel(\"predicted values\")\n",
        "plt.title(\"Charges: true and predicted values\")\n",
        "plt.show()\n",
        "\n",
        "print(\"Mean absolute error: {}\".format(mean_absolute_error(y_test, Y_pred)))\n",
        "print(\"Mean squared error: {}\".format(mse(y_test, Y_pred)))\n",
        "print(\"Root mean squared error: {}\".format(rmse(y_test, Y_pred)))\n",
        "print(\"Mean absolute percentage error: {}\".format(np.mean(np.abs((y_test - Y_pred) / y_test)) * 100))\n",
        "#based on the given figures and the graph below, this model is better at predicting values. "
      ],
      "execution_count": 45,
      "outputs": [
        {
          "output_type": "display_data",
          "data": {
            "image/png": "[encoded data removed]",
            "text/plain": [
              "<Figure size 432x288 with 1 Axes>"
            ]
          },
          "metadata": {
            "tags": [],
            "needs_background": "light"
          }
        },
        {
          "output_type": "stream",
          "text": [
            "Mean absolute error: 0.22239648483209773\n",
            "Mean squared error: 0.08509520416780661\n",
            "Root mean squared error: 0.2917108228499701\n",
            "Mean absolute percentage error: 17.132319309217923\n"
          ],
          "name": "stdout"
        }
      ]
    },
    {
      "cell_type": "code",
      "metadata": {
        "id": "sKm6CfkHbVpJ",
        "colab_type": "code",
        "outputId": "fa8d34f7-d0c0-42be-d5c9-c58a3bb2319c",
        "colab": {
          "base_uri": "https://localhost:8080/",
          "height": 136
        }
      },
      "source": [
        "alphas = [np.power(10.0,p) for p in np.arange(-10,40,1)]\n",
        "ridge_reg = RidgeCV(alphas= alphas, cv=5)\n",
        "ridge_reg.fit(X_train, y_train)\n",
        "y_train_predictions = ridge_reg.predict(X_train)\n",
        "y_test_predictions = ridge_reg.predict(X_test)\n",
        "\n",
        "print(\"Best alpha value is: {}\".format(ridge_reg.alpha_))\n",
        "print(\"R-squared of the model in training set is: {}\".format(ridge_reg.score(X_train, y_train)))\n",
        "\n",
        "print(\"R-squared of the model in test set is: {}\".format(ridge_reg.score(X_test, y_test)))\n",
        "print(\"Mean absolute error of the prediction is: {}\".format(mean_absolute_error(y_test, y_test_predictions)))\n",
        "print(\"Mean squared error of the prediction is: {}\".format(mse(y_test, y_test_predictions)))\n",
        "print(\"Root mean squared error of the prediction is: {}\".format(rmse(y_test, y_test_predictions)))\n",
        "print(\"Mean absolute percentage error of the prediction is: {}\".format(np.mean(np.abs((y_test - y_test_predictions) / y_test)) * 100))\n",
        "#not much has changed here after applying ridge regression as seen below."
      ],
      "execution_count": 46,
      "outputs": [
        {
          "output_type": "stream",
          "text": [
            "Best alpha value is: 0.1\n",
            "R-squared of the model in training set is: 0.47167557272157945\n",
            "R-squared of the model in test set is: 0.4638507416892069\n",
            "Mean absolute error of the prediction is: 0.22239054684512827\n",
            "Mean squared error of the prediction is: 0.085094223301642\n",
            "Root mean squared error of the prediction is: 0.29170914161479755\n",
            "Mean absolute percentage error of the prediction is: 17.13187030377068\n"
          ],
          "name": "stdout"
        }
      ]
    },
    {
      "cell_type": "code",
      "metadata": {
        "id": "5_IukEkRr6z7",
        "colab_type": "code",
        "outputId": "13d5dd71-96f3-4ebd-c6d3-d4f5b359f018",
        "colab": {
          "base_uri": "https://localhost:8080/",
          "height": 136
        }
      },
      "source": [
        "lasso_reg = LassoCV(alphas=alphas, cv=5)\n",
        "\n",
        "lasso_reg.fit(X_train, y_train)\n",
        "y_train_predictions =  lasso_reg.predict(X_train)\n",
        "y_test_predictions = lasso_reg.predict(X_test)\n",
        "\n",
        "print(\"Best alpha value is: {}\".format(lasso_reg.alpha_))\n",
        "print(\"R-squared of the model in training set is: {}\".format(lasso_reg.score(X_train, y_train)))\n",
        "\n",
        "print(\"R-squared of the model in test set is: {}\".format(lasso_reg.score(X_test, y_test)))\n",
        "print(\"Mean absolute error of the prediction is: {}\".format(mean_absolute_error(y_test, y_test_predictions)))\n",
        "print(\"Mean squared error of the prediction is: {}\".format(mse(y_test, y_test_predictions)))\n",
        "print(\"Root mean squared error of the prediction is: {}\".format(rmse(y_test, y_test_predictions)))\n",
        "print(\"Mean absolute percentage error of the prediction is: {}\".format(np.mean(np.abs((y_test - y_test_predictions) / y_test)) * 100))\n",
        "#not much has changed over here after applying lasso regression."
      ],
      "execution_count": 47,
      "outputs": [
        {
          "output_type": "stream",
          "text": [
            "Best alpha value is: 1e-06\n",
            "R-squared of the model in training set is: 0.471658423771096\n",
            "R-squared of the model in test set is: 0.46388866946731366\n",
            "Mean absolute error of the prediction is: 0.22233481192172858\n",
            "Mean squared error of the prediction is: 0.08508820364429934\n",
            "Root mean squared error of the prediction is: 0.2916988235223093\n",
            "Mean absolute percentage error of the prediction is: 17.12735150210189\n"
          ],
          "name": "stdout"
        }
      ]
    },
    {
      "cell_type": "code",
      "metadata": {
        "id": "BFgu3hVBsUnN",
        "colab_type": "code",
        "outputId": "54c8ae71-bd4b-4b4c-cd38-e318cb2c9b23",
        "colab": {
          "base_uri": "https://localhost:8080/",
          "height": 136
        }
      },
      "source": [
        "elasticnet_reg = ElasticNetCV(alphas=alphas, cv=5)\n",
        "\n",
        "elasticnet_reg.fit(X_train, y_train)\n",
        "y_train_predictions =  elasticnet_reg.predict(X_train)\n",
        "y_test_predictions = elasticnet_reg.predict(X_test)\n",
        "\n",
        "print(\"Best alpha value is: {}\".format(elasticnet_reg.alpha_))\n",
        "print(\"R-squared of the model in training set is: {}\".format(elasticnet_reg.score(X_train, y_train)))\n",
        "\n",
        "print(\"R-squared of the model in test set is: {}\".format(elasticnet_reg.score(X_test, y_test)))\n",
        "print(\"Mean absolute error of the prediction is: {}\".format(mean_absolute_error(y_test, y_test_predictions)))\n",
        "print(\"Mean squared error of the prediction is: {}\".format(mse(y_test, y_test_predictions)))\n",
        "print(\"Root mean squared error of the prediction is: {}\".format(rmse(y_test, y_test_predictions)))\n",
        "print(\"Mean absolute percentage error of the prediction is: {}\".format(np.mean(np.abs((y_test - y_test_predictions) / y_test)) * 100))"
      ],
      "execution_count": 48,
      "outputs": [
        {
          "output_type": "stream",
          "text": [
            "Best alpha value is: 1e-06\n",
            "R-squared of the model in training set is: 0.47165860062943155\n",
            "R-squared of the model in test set is: 0.4638884343940932\n",
            "Mean absolute error of the prediction is: 0.2223351157592871\n",
            "Mean squared error of the prediction is: 0.08508824095363589\n",
            "Root mean squared error of the prediction is: 0.2916988874741141\n",
            "Mean absolute percentage error of the prediction is: 17.127380371874967\n"
          ],
          "name": "stdout"
        }
      ]
    },
    {
      "cell_type": "code",
      "metadata": {
        "id": "pwAb-3jRsiDB",
        "colab_type": "code",
        "colab": {}
      },
      "source": [
        ""
      ],
      "execution_count": 0,
      "outputs": []
    },
    {
      "cell_type": "markdown",
      "metadata": {
        "id": "ONGNDu5jtCNP",
        "colab_type": "text"
      },
      "source": [
        "As shown in the above, the regressions did not return us more desirable figures indicating that there isn't much overfitting going on to begin with. Hence, we can do without it. "
      ]
    },
    {
      "cell_type": "markdown",
      "metadata": {
        "id": "6nNn3yPdyZf5",
        "colab_type": "text"
      },
      "source": [
        "## Next Model: K- Nearest Neighbors\n",
        "I am now going to conduct a k-nearest neighbors analysis. This will first begin with gathering the features in their raw form and then normalizing them."
      ]
    },
    {
      "cell_type": "code",
      "metadata": {
        "id": "PIl1i54j3gA1",
        "colab_type": "code",
        "colab": {}
      },
      "source": [
        "numeric_and_dummies_2 = pd.concat([df_numeric, dummy_data], axis=1)"
      ],
      "execution_count": 0,
      "outputs": []
    },
    {
      "cell_type": "code",
      "metadata": {
        "id": "Cgi2bfQy366W",
        "colab_type": "code",
        "outputId": "5e7bc0d0-5dc9-439c-855a-0174234815e5",
        "colab": {
          "base_uri": "https://localhost:8080/",
          "height": 241
        }
      },
      "source": [
        "numeric_and_dummies_2.head()"
      ],
      "execution_count": 50,
      "outputs": [
        {
          "output_type": "execute_result",
          "data": {
            "text/html": [
              "<div>\n",
              "<style scoped>\n",
              "    .dataframe tbody tr th:only-of-type {\n",
              "        vertical-align: middle;\n",
              "    }\n",
              "\n",
              "    .dataframe tbody tr th {\n",
              "        vertical-align: top;\n",
              "    }\n",
              "\n",
              "    .dataframe thead th {\n",
              "        text-align: right;\n",
              "    }\n",
              "</style>\n",
              "<table border=\"1\" class=\"dataframe\">\n",
              "  <thead>\n",
              "    <tr style=\"text-align: right;\">\n",
              "      <th></th>\n",
              "      <th>AveragePrice</th>\n",
              "      <th>Total Volume</th>\n",
              "      <th>4046</th>\n",
              "      <th>4225</th>\n",
              "      <th>4770</th>\n",
              "      <th>Total Bags</th>\n",
              "      <th>Small Bags</th>\n",
              "      <th>Large Bags</th>\n",
              "      <th>XLarge Bags</th>\n",
              "      <th>type_organic</th>\n",
              "      <th>year_2016</th>\n",
              "      <th>year_2017</th>\n",
              "      <th>year_2018</th>\n",
              "      <th>Month_02</th>\n",
              "      <th>Month_03</th>\n",
              "      <th>Month_04</th>\n",
              "      <th>Month_05</th>\n",
              "      <th>Month_06</th>\n",
              "      <th>Month_07</th>\n",
              "      <th>Month_08</th>\n",
              "      <th>Month_09</th>\n",
              "      <th>Month_10</th>\n",
              "      <th>Month_11</th>\n",
              "      <th>Month_12</th>\n",
              "      <th>new_region_mid_atlantic</th>\n",
              "      <th>new_region_midwest</th>\n",
              "      <th>new_region_northeast</th>\n",
              "      <th>new_region_pacific_northwest</th>\n",
              "      <th>new_region_southeast</th>\n",
              "      <th>new_region_southwest</th>\n",
              "      <th>new_region_west_coast</th>\n",
              "    </tr>\n",
              "  </thead>\n",
              "  <tbody>\n",
              "    <tr>\n",
              "      <th>0</th>\n",
              "      <td>1.33</td>\n",
              "      <td>64236.62</td>\n",
              "      <td>1036.74</td>\n",
              "      <td>54454.85</td>\n",
              "      <td>48.16</td>\n",
              "      <td>8696.87</td>\n",
              "      <td>8603.62</td>\n",
              "      <td>93.25</td>\n",
              "      <td>0.0</td>\n",
              "      <td>0</td>\n",
              "      <td>0</td>\n",
              "      <td>0</td>\n",
              "      <td>0</td>\n",
              "      <td>0</td>\n",
              "      <td>0</td>\n",
              "      <td>0</td>\n",
              "      <td>0</td>\n",
              "      <td>0</td>\n",
              "      <td>0</td>\n",
              "      <td>0</td>\n",
              "      <td>0</td>\n",
              "      <td>0</td>\n",
              "      <td>0</td>\n",
              "      <td>1</td>\n",
              "      <td>1</td>\n",
              "      <td>0</td>\n",
              "      <td>0</td>\n",
              "      <td>0</td>\n",
              "      <td>0</td>\n",
              "      <td>0</td>\n",
              "      <td>0</td>\n",
              "    </tr>\n",
              "    <tr>\n",
              "      <th>1</th>\n",
              "      <td>1.35</td>\n",
              "      <td>54876.98</td>\n",
              "      <td>674.28</td>\n",
              "      <td>44638.81</td>\n",
              "      <td>58.33</td>\n",
              "      <td>9505.56</td>\n",
              "      <td>9408.07</td>\n",
              "      <td>97.49</td>\n",
              "      <td>0.0</td>\n",
              "      <td>0</td>\n",
              "      <td>0</td>\n",
              "      <td>0</td>\n",
              "      <td>0</td>\n",
              "      <td>0</td>\n",
              "      <td>0</td>\n",
              "      <td>0</td>\n",
              "      <td>0</td>\n",
              "      <td>0</td>\n",
              "      <td>0</td>\n",
              "      <td>0</td>\n",
              "      <td>0</td>\n",
              "      <td>0</td>\n",
              "      <td>0</td>\n",
              "      <td>1</td>\n",
              "      <td>1</td>\n",
              "      <td>0</td>\n",
              "      <td>0</td>\n",
              "      <td>0</td>\n",
              "      <td>0</td>\n",
              "      <td>0</td>\n",
              "      <td>0</td>\n",
              "    </tr>\n",
              "    <tr>\n",
              "      <th>2</th>\n",
              "      <td>0.93</td>\n",
              "      <td>118220.22</td>\n",
              "      <td>794.70</td>\n",
              "      <td>109149.67</td>\n",
              "      <td>130.50</td>\n",
              "      <td>8145.35</td>\n",
              "      <td>8042.21</td>\n",
              "      <td>103.14</td>\n",
              "      <td>0.0</td>\n",
              "      <td>0</td>\n",
              "      <td>0</td>\n",
              "      <td>0</td>\n",
              "      <td>0</td>\n",
              "      <td>0</td>\n",
              "      <td>0</td>\n",
              "      <td>0</td>\n",
              "      <td>0</td>\n",
              "      <td>0</td>\n",
              "      <td>0</td>\n",
              "      <td>0</td>\n",
              "      <td>0</td>\n",
              "      <td>0</td>\n",
              "      <td>0</td>\n",
              "      <td>1</td>\n",
              "      <td>1</td>\n",
              "      <td>0</td>\n",
              "      <td>0</td>\n",
              "      <td>0</td>\n",
              "      <td>0</td>\n",
              "      <td>0</td>\n",
              "      <td>0</td>\n",
              "    </tr>\n",
              "    <tr>\n",
              "      <th>3</th>\n",
              "      <td>1.08</td>\n",
              "      <td>78992.15</td>\n",
              "      <td>1132.00</td>\n",
              "      <td>71976.41</td>\n",
              "      <td>72.58</td>\n",
              "      <td>5811.16</td>\n",
              "      <td>5677.40</td>\n",
              "      <td>133.76</td>\n",
              "      <td>0.0</td>\n",
              "      <td>0</td>\n",
              "      <td>0</td>\n",
              "      <td>0</td>\n",
              "      <td>0</td>\n",
              "      <td>0</td>\n",
              "      <td>0</td>\n",
              "      <td>0</td>\n",
              "      <td>0</td>\n",
              "      <td>0</td>\n",
              "      <td>0</td>\n",
              "      <td>0</td>\n",
              "      <td>0</td>\n",
              "      <td>0</td>\n",
              "      <td>0</td>\n",
              "      <td>1</td>\n",
              "      <td>1</td>\n",
              "      <td>0</td>\n",
              "      <td>0</td>\n",
              "      <td>0</td>\n",
              "      <td>0</td>\n",
              "      <td>0</td>\n",
              "      <td>0</td>\n",
              "    </tr>\n",
              "    <tr>\n",
              "      <th>4</th>\n",
              "      <td>1.28</td>\n",
              "      <td>51039.60</td>\n",
              "      <td>941.48</td>\n",
              "      <td>43838.39</td>\n",
              "      <td>75.78</td>\n",
              "      <td>6183.95</td>\n",
              "      <td>5986.26</td>\n",
              "      <td>197.69</td>\n",
              "      <td>0.0</td>\n",
              "      <td>0</td>\n",
              "      <td>0</td>\n",
              "      <td>0</td>\n",
              "      <td>0</td>\n",
              "      <td>0</td>\n",
              "      <td>0</td>\n",
              "      <td>0</td>\n",
              "      <td>0</td>\n",
              "      <td>0</td>\n",
              "      <td>0</td>\n",
              "      <td>0</td>\n",
              "      <td>0</td>\n",
              "      <td>0</td>\n",
              "      <td>1</td>\n",
              "      <td>0</td>\n",
              "      <td>1</td>\n",
              "      <td>0</td>\n",
              "      <td>0</td>\n",
              "      <td>0</td>\n",
              "      <td>0</td>\n",
              "      <td>0</td>\n",
              "      <td>0</td>\n",
              "    </tr>\n",
              "  </tbody>\n",
              "</table>\n",
              "</div>"
            ],
            "text/plain": [
              "   AveragePrice  Total Volume  ...  new_region_southwest  new_region_west_coast\n",
              "0          1.33      64236.62  ...                     0                      0\n",
              "1          1.35      54876.98  ...                     0                      0\n",
              "2          0.93     118220.22  ...                     0                      0\n",
              "3          1.08      78992.15  ...                     0                      0\n",
              "4          1.28      51039.60  ...                     0                      0\n",
              "\n",
              "[5 rows x 31 columns]"
            ]
          },
          "metadata": {
            "tags": []
          },
          "execution_count": 50
        }
      ]
    },
    {
      "cell_type": "code",
      "metadata": {
        "id": "3J73eMFtqTjl",
        "colab_type": "code",
        "colab": {}
      },
      "source": [
        "#I am going to add in that additional feature of the volume of organic avocados. \n",
        "numeric_and_dummies_2['volume_organic'] = numeric_and_dummies_2['Total Volume'] *numeric_and_dummies_2['type_organic']"
      ],
      "execution_count": 0,
      "outputs": []
    },
    {
      "cell_type": "code",
      "metadata": {
        "id": "t4c-k1HdpwM-",
        "colab_type": "code",
        "outputId": "a9f5e577-6aeb-4b7a-e3f4-80d7dbb7143c",
        "colab": {
          "base_uri": "https://localhost:8080/",
          "height": 241
        }
      },
      "source": [
        "#will first normalize the data...\n",
        "from sklearn import datasets\n",
        "from sklearn import preprocessing\n",
        "from sklearn.preprocessing import Normalizer\n",
        "numeric_and_dummies_2.loc[:, numeric_and_dummies_2.columns != 'AveragePrice'] = preprocessing.normalize(numeric_and_dummies_2.loc[:, numeric_and_dummies_2.columns != 'AveragePrice'])\n",
        "numeric_and_dummies_2.head()\n",
        "\n",
        "\n"
      ],
      "execution_count": 52,
      "outputs": [
        {
          "output_type": "execute_result",
          "data": {
            "text/html": [
              "<div>\n",
              "<style scoped>\n",
              "    .dataframe tbody tr th:only-of-type {\n",
              "        vertical-align: middle;\n",
              "    }\n",
              "\n",
              "    .dataframe tbody tr th {\n",
              "        vertical-align: top;\n",
              "    }\n",
              "\n",
              "    .dataframe thead th {\n",
              "        text-align: right;\n",
              "    }\n",
              "</style>\n",
              "<table border=\"1\" class=\"dataframe\">\n",
              "  <thead>\n",
              "    <tr style=\"text-align: right;\">\n",
              "      <th></th>\n",
              "      <th>AveragePrice</th>\n",
              "      <th>Total Volume</th>\n",
              "      <th>4046</th>\n",
              "      <th>4225</th>\n",
              "      <th>4770</th>\n",
              "      <th>Total Bags</th>\n",
              "      <th>Small Bags</th>\n",
              "      <th>Large Bags</th>\n",
              "      <th>XLarge Bags</th>\n",
              "      <th>type_organic</th>\n",
              "      <th>year_2016</th>\n",
              "      <th>year_2017</th>\n",
              "      <th>year_2018</th>\n",
              "      <th>Month_02</th>\n",
              "      <th>Month_03</th>\n",
              "      <th>Month_04</th>\n",
              "      <th>Month_05</th>\n",
              "      <th>Month_06</th>\n",
              "      <th>Month_07</th>\n",
              "      <th>Month_08</th>\n",
              "      <th>Month_09</th>\n",
              "      <th>Month_10</th>\n",
              "      <th>Month_11</th>\n",
              "      <th>Month_12</th>\n",
              "      <th>new_region_mid_atlantic</th>\n",
              "      <th>new_region_midwest</th>\n",
              "      <th>new_region_northeast</th>\n",
              "      <th>new_region_pacific_northwest</th>\n",
              "      <th>new_region_southeast</th>\n",
              "      <th>new_region_southwest</th>\n",
              "      <th>new_region_west_coast</th>\n",
              "      <th>volume_organic</th>\n",
              "    </tr>\n",
              "  </thead>\n",
              "  <tbody>\n",
              "    <tr>\n",
              "      <th>0</th>\n",
              "      <td>1.33</td>\n",
              "      <td>0.754816</td>\n",
              "      <td>0.012182</td>\n",
              "      <td>0.639874</td>\n",
              "      <td>0.000566</td>\n",
              "      <td>0.102193</td>\n",
              "      <td>0.101097</td>\n",
              "      <td>0.001096</td>\n",
              "      <td>0.0</td>\n",
              "      <td>0.0</td>\n",
              "      <td>0.0</td>\n",
              "      <td>0.0</td>\n",
              "      <td>0.0</td>\n",
              "      <td>0.0</td>\n",
              "      <td>0.0</td>\n",
              "      <td>0.0</td>\n",
              "      <td>0.0</td>\n",
              "      <td>0.0</td>\n",
              "      <td>0.0</td>\n",
              "      <td>0.0</td>\n",
              "      <td>0.0</td>\n",
              "      <td>0.0</td>\n",
              "      <td>0.000000</td>\n",
              "      <td>0.000012</td>\n",
              "      <td>0.000012</td>\n",
              "      <td>0.0</td>\n",
              "      <td>0.0</td>\n",
              "      <td>0.0</td>\n",
              "      <td>0.0</td>\n",
              "      <td>0.0</td>\n",
              "      <td>0.0</td>\n",
              "      <td>0.0</td>\n",
              "    </tr>\n",
              "    <tr>\n",
              "      <th>1</th>\n",
              "      <td>1.35</td>\n",
              "      <td>0.762221</td>\n",
              "      <td>0.009366</td>\n",
              "      <td>0.620017</td>\n",
              "      <td>0.000810</td>\n",
              "      <td>0.132029</td>\n",
              "      <td>0.130675</td>\n",
              "      <td>0.001354</td>\n",
              "      <td>0.0</td>\n",
              "      <td>0.0</td>\n",
              "      <td>0.0</td>\n",
              "      <td>0.0</td>\n",
              "      <td>0.0</td>\n",
              "      <td>0.0</td>\n",
              "      <td>0.0</td>\n",
              "      <td>0.0</td>\n",
              "      <td>0.0</td>\n",
              "      <td>0.0</td>\n",
              "      <td>0.0</td>\n",
              "      <td>0.0</td>\n",
              "      <td>0.0</td>\n",
              "      <td>0.0</td>\n",
              "      <td>0.000000</td>\n",
              "      <td>0.000014</td>\n",
              "      <td>0.000014</td>\n",
              "      <td>0.0</td>\n",
              "      <td>0.0</td>\n",
              "      <td>0.0</td>\n",
              "      <td>0.0</td>\n",
              "      <td>0.0</td>\n",
              "      <td>0.0</td>\n",
              "      <td>0.0</td>\n",
              "    </tr>\n",
              "    <tr>\n",
              "      <th>2</th>\n",
              "      <td>0.93</td>\n",
              "      <td>0.732870</td>\n",
              "      <td>0.004926</td>\n",
              "      <td>0.676640</td>\n",
              "      <td>0.000809</td>\n",
              "      <td>0.050495</td>\n",
              "      <td>0.049855</td>\n",
              "      <td>0.000639</td>\n",
              "      <td>0.0</td>\n",
              "      <td>0.0</td>\n",
              "      <td>0.0</td>\n",
              "      <td>0.0</td>\n",
              "      <td>0.0</td>\n",
              "      <td>0.0</td>\n",
              "      <td>0.0</td>\n",
              "      <td>0.0</td>\n",
              "      <td>0.0</td>\n",
              "      <td>0.0</td>\n",
              "      <td>0.0</td>\n",
              "      <td>0.0</td>\n",
              "      <td>0.0</td>\n",
              "      <td>0.0</td>\n",
              "      <td>0.000000</td>\n",
              "      <td>0.000006</td>\n",
              "      <td>0.000006</td>\n",
              "      <td>0.0</td>\n",
              "      <td>0.0</td>\n",
              "      <td>0.0</td>\n",
              "      <td>0.0</td>\n",
              "      <td>0.0</td>\n",
              "      <td>0.0</td>\n",
              "      <td>0.0</td>\n",
              "    </tr>\n",
              "    <tr>\n",
              "      <th>3</th>\n",
              "      <td>1.08</td>\n",
              "      <td>0.737001</td>\n",
              "      <td>0.010562</td>\n",
              "      <td>0.671544</td>\n",
              "      <td>0.000677</td>\n",
              "      <td>0.054218</td>\n",
              "      <td>0.052970</td>\n",
              "      <td>0.001248</td>\n",
              "      <td>0.0</td>\n",
              "      <td>0.0</td>\n",
              "      <td>0.0</td>\n",
              "      <td>0.0</td>\n",
              "      <td>0.0</td>\n",
              "      <td>0.0</td>\n",
              "      <td>0.0</td>\n",
              "      <td>0.0</td>\n",
              "      <td>0.0</td>\n",
              "      <td>0.0</td>\n",
              "      <td>0.0</td>\n",
              "      <td>0.0</td>\n",
              "      <td>0.0</td>\n",
              "      <td>0.0</td>\n",
              "      <td>0.000000</td>\n",
              "      <td>0.000009</td>\n",
              "      <td>0.000009</td>\n",
              "      <td>0.0</td>\n",
              "      <td>0.0</td>\n",
              "      <td>0.0</td>\n",
              "      <td>0.0</td>\n",
              "      <td>0.0</td>\n",
              "      <td>0.0</td>\n",
              "      <td>0.0</td>\n",
              "    </tr>\n",
              "    <tr>\n",
              "      <th>4</th>\n",
              "      <td>1.28</td>\n",
              "      <td>0.752386</td>\n",
              "      <td>0.013879</td>\n",
              "      <td>0.646232</td>\n",
              "      <td>0.001117</td>\n",
              "      <td>0.091159</td>\n",
              "      <td>0.088245</td>\n",
              "      <td>0.002914</td>\n",
              "      <td>0.0</td>\n",
              "      <td>0.0</td>\n",
              "      <td>0.0</td>\n",
              "      <td>0.0</td>\n",
              "      <td>0.0</td>\n",
              "      <td>0.0</td>\n",
              "      <td>0.0</td>\n",
              "      <td>0.0</td>\n",
              "      <td>0.0</td>\n",
              "      <td>0.0</td>\n",
              "      <td>0.0</td>\n",
              "      <td>0.0</td>\n",
              "      <td>0.0</td>\n",
              "      <td>0.0</td>\n",
              "      <td>0.000015</td>\n",
              "      <td>0.000000</td>\n",
              "      <td>0.000015</td>\n",
              "      <td>0.0</td>\n",
              "      <td>0.0</td>\n",
              "      <td>0.0</td>\n",
              "      <td>0.0</td>\n",
              "      <td>0.0</td>\n",
              "      <td>0.0</td>\n",
              "      <td>0.0</td>\n",
              "    </tr>\n",
              "  </tbody>\n",
              "</table>\n",
              "</div>"
            ],
            "text/plain": [
              "   AveragePrice  Total Volume  ...  new_region_west_coast  volume_organic\n",
              "0          1.33      0.754816  ...                    0.0             0.0\n",
              "1          1.35      0.762221  ...                    0.0             0.0\n",
              "2          0.93      0.732870  ...                    0.0             0.0\n",
              "3          1.08      0.737001  ...                    0.0             0.0\n",
              "4          1.28      0.752386  ...                    0.0             0.0\n",
              "\n",
              "[5 rows x 32 columns]"
            ]
          },
          "metadata": {
            "tags": []
          },
          "execution_count": 52
        }
      ]
    },
    {
      "cell_type": "code",
      "metadata": {
        "id": "Nf4W0Jr30lq_",
        "colab_type": "code",
        "outputId": "666e9e67-6f0d-4ad9-bfea-37846b73bd37",
        "colab": {
          "base_uri": "https://localhost:8080/",
          "height": 68
        }
      },
      "source": [
        "from sklearn import neighbors\n",
        "knn = neighbors.KNeighborsRegressor(n_neighbors=10)\n",
        "Y = numeric_and_dummies_2['AveragePrice']\n",
        "X = numeric_and_dummies_2[['type_organic', 'Total Volume', '4046', 'volume_organic', 'new_region_mid_atlantic', 'new_region_northeast', 'new_region_west_coast', 'new_region_southeast', 'new_region_pacific_northwest', 'new_region_midwest', 'new_region_southwest']]\n",
        "knn.fit(X,Y)"
      ],
      "execution_count": 53,
      "outputs": [
        {
          "output_type": "execute_result",
          "data": {
            "text/plain": [
              "KNeighborsRegressor(algorithm='auto', leaf_size=30, metric='minkowski',\n",
              "                    metric_params=None, n_jobs=None, n_neighbors=10, p=2,\n",
              "                    weights='uniform')"
            ]
          },
          "metadata": {
            "tags": []
          },
          "execution_count": 53
        }
      ]
    },
    {
      "cell_type": "code",
      "metadata": {
        "id": "ZSNJKKlt0vHS",
        "colab_type": "code",
        "outputId": "8c8c845c-52c6-4eec-c5ba-de2901ece20d",
        "colab": {
          "base_uri": "https://localhost:8080/",
          "height": 34
        }
      },
      "source": [
        "from sklearn.model_selection import cross_val_score\n",
        "score = cross_val_score(knn, X, Y, cv=5)\n",
        "print(\"Unweighted Accuracy: %0.2f (+/- %0.2f)\" % (score.mean(), score.std() * 2))\n"
      ],
      "execution_count": 54,
      "outputs": [
        {
          "output_type": "stream",
          "text": [
            "Unweighted Accuracy: -0.04 (+/- 0.51)\n"
          ],
          "name": "stdout"
        }
      ]
    },
    {
      "cell_type": "code",
      "metadata": {
        "id": "socySu_w3jQ3",
        "colab_type": "code",
        "outputId": "e81dd572-1e50-4846-d5f8-0f6b39d3d326",
        "colab": {
          "base_uri": "https://localhost:8080/",
          "height": 68
        }
      },
      "source": [
        "knn = neighbors.KNeighborsRegressor(n_neighbors=10, weights='distance')\n",
        "Y = numeric_and_dummies_2['AveragePrice']\n",
        "X = numeric_and_dummies_2[['type_organic', 'Total Volume', '4046', 'volume_organic', 'new_region_mid_atlantic', 'new_region_northeast', 'new_region_west_coast', 'new_region_southeast', 'new_region_pacific_northwest', 'new_region_midwest', 'new_region_southwest']]\n",
        "knn.fit(X,Y)"
      ],
      "execution_count": 55,
      "outputs": [
        {
          "output_type": "execute_result",
          "data": {
            "text/plain": [
              "KNeighborsRegressor(algorithm='auto', leaf_size=30, metric='minkowski',\n",
              "                    metric_params=None, n_jobs=None, n_neighbors=10, p=2,\n",
              "                    weights='distance')"
            ]
          },
          "metadata": {
            "tags": []
          },
          "execution_count": 55
        }
      ]
    },
    {
      "cell_type": "code",
      "metadata": {
        "id": "wmJeSpjG3udN",
        "colab_type": "code",
        "outputId": "dfe5d100-91f3-42c6-ddb2-7e553c2eb2f1",
        "colab": {
          "base_uri": "https://localhost:8080/",
          "height": 34
        }
      },
      "source": [
        "score = cross_val_score(knn, X, Y, cv=5)\n",
        "print(\"Unweighted Accuracy: %0.2f (+/- %0.2f)\" % (score.mean(), score.std() * 2))\n"
      ],
      "execution_count": 56,
      "outputs": [
        {
          "output_type": "stream",
          "text": [
            "Unweighted Accuracy: -0.08 (+/- 0.56)\n"
          ],
          "name": "stdout"
        }
      ]
    },
    {
      "cell_type": "markdown",
      "metadata": {
        "id": "62XSNuaP4V_d",
        "colab_type": "text"
      },
      "source": [
        "From the above, we can see that k-nearest neighbors is inn fact not doing a good job at predicting values. It is slightly more accurate after playing around with the neighbors and settling on 10 neighbors, and the results look to be more clear-cut when it is not weighted. "
      ]
    },
    {
      "cell_type": "markdown",
      "metadata": {
        "id": "_4vMBa8765vN",
        "colab_type": "text"
      },
      "source": [
        "## On to Random Forest... will gather the numeric features and the dummies once again. "
      ]
    },
    {
      "cell_type": "code",
      "metadata": {
        "id": "R4034W4i3vEp",
        "colab_type": "code",
        "outputId": "f5502f0b-e8b8-4261-a920-a1289b88534d",
        "colab": {
          "base_uri": "https://localhost:8080/",
          "height": 34
        }
      },
      "source": [
        "from sklearn.ensemble import RandomForestRegressor\n",
        "from sklearn.model_selection import train_test_split\n",
        "from sklearn.metrics import accuracy_score\n",
        "from sklearn import tree\n",
        "from sklearn import ensemble\n",
        "\n",
        "numeric_and_dummies_3 = pd.concat([df_numeric, dummy_data], axis=1)\n",
        "numeric_and_dummies_3['volume_organic'] = numeric_and_dummies_3['Total Volume'] * numeric_and_dummies_3['type_organic']\n",
        "\n",
        "X = numeric_and_dummies_3[['type_organic', 'Total Volume', '4046', 'volume_organic', 'new_region_mid_atlantic', 'new_region_northeast', 'new_region_west_coast', 'new_region_southeast', 'new_region_pacific_northwest', 'new_region_midwest', 'new_region_southwest']]\n",
        "Y = numeric_and_dummies_3['AveragePrice']\n",
        "rfc = ensemble.RandomForestRegressor()\n",
        "cross_val_score(rfc, X, Y, cv=5)\n",
        "#As seen below, according to the cross validation score, this isn't giving us good accuracy...in the next random forest classifier I will be playing around with X."
      ],
      "execution_count": 57,
      "outputs": [
        {
          "output_type": "execute_result",
          "data": {
            "text/plain": [
              "array([-0.88547107,  0.15246984,  0.42821976, -0.06112202, -0.13311966])"
            ]
          },
          "metadata": {
            "tags": []
          },
          "execution_count": 57
        }
      ]
    },
    {
      "cell_type": "code",
      "metadata": {
        "id": "wy7w-UI07h0p",
        "colab_type": "code",
        "outputId": "792f15c2-9264-45b2-f498-c31b72a6d561",
        "colab": {
          "base_uri": "https://localhost:8080/",
          "height": 34
        }
      },
      "source": [
        "X = numeric_and_dummies_3.drop('AveragePrice', 1)\n",
        "Y = numeric_and_dummies_3['AveragePrice']\n",
        "cross_val_score(rfc, X, Y, cv=5)\n",
        "#Looks like the accuracy did increase when including all the features as seen below."
      ],
      "execution_count": 58,
      "outputs": [
        {
          "output_type": "execute_result",
          "data": {
            "text/plain": [
              "array([-0.12017009,  0.34113876,  0.66306711,  0.2764195 , -0.03340637])"
            ]
          },
          "metadata": {
            "tags": []
          },
          "execution_count": 58
        }
      ]
    },
    {
      "cell_type": "markdown",
      "metadata": {
        "id": "5x1skxYVE_zF",
        "colab_type": "text"
      },
      "source": [
        "## SVM\n",
        "For support vector machines, we will first begin by normalizing the data as this is a general assumption for SVM. I will be using the second dataframe of the features and dummies as this is already normalized. "
      ]
    },
    {
      "cell_type": "code",
      "metadata": {
        "id": "32MAfglsE-MY",
        "colab_type": "code",
        "outputId": "cba59a39-70b0-41a3-ec61-4e55c09bed75",
        "colab": {
          "base_uri": "https://localhost:8080/",
          "height": 241
        }
      },
      "source": [
        "numeric_and_dummies_2.head()"
      ],
      "execution_count": 59,
      "outputs": [
        {
          "output_type": "execute_result",
          "data": {
            "text/html": [
              "<div>\n",
              "<style scoped>\n",
              "    .dataframe tbody tr th:only-of-type {\n",
              "        vertical-align: middle;\n",
              "    }\n",
              "\n",
              "    .dataframe tbody tr th {\n",
              "        vertical-align: top;\n",
              "    }\n",
              "\n",
              "    .dataframe thead th {\n",
              "        text-align: right;\n",
              "    }\n",
              "</style>\n",
              "<table border=\"1\" class=\"dataframe\">\n",
              "  <thead>\n",
              "    <tr style=\"text-align: right;\">\n",
              "      <th></th>\n",
              "      <th>AveragePrice</th>\n",
              "      <th>Total Volume</th>\n",
              "      <th>4046</th>\n",
              "      <th>4225</th>\n",
              "      <th>4770</th>\n",
              "      <th>Total Bags</th>\n",
              "      <th>Small Bags</th>\n",
              "      <th>Large Bags</th>\n",
              "      <th>XLarge Bags</th>\n",
              "      <th>type_organic</th>\n",
              "      <th>year_2016</th>\n",
              "      <th>year_2017</th>\n",
              "      <th>year_2018</th>\n",
              "      <th>Month_02</th>\n",
              "      <th>Month_03</th>\n",
              "      <th>Month_04</th>\n",
              "      <th>Month_05</th>\n",
              "      <th>Month_06</th>\n",
              "      <th>Month_07</th>\n",
              "      <th>Month_08</th>\n",
              "      <th>Month_09</th>\n",
              "      <th>Month_10</th>\n",
              "      <th>Month_11</th>\n",
              "      <th>Month_12</th>\n",
              "      <th>new_region_mid_atlantic</th>\n",
              "      <th>new_region_midwest</th>\n",
              "      <th>new_region_northeast</th>\n",
              "      <th>new_region_pacific_northwest</th>\n",
              "      <th>new_region_southeast</th>\n",
              "      <th>new_region_southwest</th>\n",
              "      <th>new_region_west_coast</th>\n",
              "      <th>volume_organic</th>\n",
              "    </tr>\n",
              "  </thead>\n",
              "  <tbody>\n",
              "    <tr>\n",
              "      <th>0</th>\n",
              "      <td>1.33</td>\n",
              "      <td>0.754816</td>\n",
              "      <td>0.012182</td>\n",
              "      <td>0.639874</td>\n",
              "      <td>0.000566</td>\n",
              "      <td>0.102193</td>\n",
              "      <td>0.101097</td>\n",
              "      <td>0.001096</td>\n",
              "      <td>0.0</td>\n",
              "      <td>0.0</td>\n",
              "      <td>0.0</td>\n",
              "      <td>0.0</td>\n",
              "      <td>0.0</td>\n",
              "      <td>0.0</td>\n",
              "      <td>0.0</td>\n",
              "      <td>0.0</td>\n",
              "      <td>0.0</td>\n",
              "      <td>0.0</td>\n",
              "      <td>0.0</td>\n",
              "      <td>0.0</td>\n",
              "      <td>0.0</td>\n",
              "      <td>0.0</td>\n",
              "      <td>0.000000</td>\n",
              "      <td>0.000012</td>\n",
              "      <td>0.000012</td>\n",
              "      <td>0.0</td>\n",
              "      <td>0.0</td>\n",
              "      <td>0.0</td>\n",
              "      <td>0.0</td>\n",
              "      <td>0.0</td>\n",
              "      <td>0.0</td>\n",
              "      <td>0.0</td>\n",
              "    </tr>\n",
              "    <tr>\n",
              "      <th>1</th>\n",
              "      <td>1.35</td>\n",
              "      <td>0.762221</td>\n",
              "      <td>0.009366</td>\n",
              "      <td>0.620017</td>\n",
              "      <td>0.000810</td>\n",
              "      <td>0.132029</td>\n",
              "      <td>0.130675</td>\n",
              "      <td>0.001354</td>\n",
              "      <td>0.0</td>\n",
              "      <td>0.0</td>\n",
              "      <td>0.0</td>\n",
              "      <td>0.0</td>\n",
              "      <td>0.0</td>\n",
              "      <td>0.0</td>\n",
              "      <td>0.0</td>\n",
              "      <td>0.0</td>\n",
              "      <td>0.0</td>\n",
              "      <td>0.0</td>\n",
              "      <td>0.0</td>\n",
              "      <td>0.0</td>\n",
              "      <td>0.0</td>\n",
              "      <td>0.0</td>\n",
              "      <td>0.000000</td>\n",
              "      <td>0.000014</td>\n",
              "      <td>0.000014</td>\n",
              "      <td>0.0</td>\n",
              "      <td>0.0</td>\n",
              "      <td>0.0</td>\n",
              "      <td>0.0</td>\n",
              "      <td>0.0</td>\n",
              "      <td>0.0</td>\n",
              "      <td>0.0</td>\n",
              "    </tr>\n",
              "    <tr>\n",
              "      <th>2</th>\n",
              "      <td>0.93</td>\n",
              "      <td>0.732870</td>\n",
              "      <td>0.004926</td>\n",
              "      <td>0.676640</td>\n",
              "      <td>0.000809</td>\n",
              "      <td>0.050495</td>\n",
              "      <td>0.049855</td>\n",
              "      <td>0.000639</td>\n",
              "      <td>0.0</td>\n",
              "      <td>0.0</td>\n",
              "      <td>0.0</td>\n",
              "      <td>0.0</td>\n",
              "      <td>0.0</td>\n",
              "      <td>0.0</td>\n",
              "      <td>0.0</td>\n",
              "      <td>0.0</td>\n",
              "      <td>0.0</td>\n",
              "      <td>0.0</td>\n",
              "      <td>0.0</td>\n",
              "      <td>0.0</td>\n",
              "      <td>0.0</td>\n",
              "      <td>0.0</td>\n",
              "      <td>0.000000</td>\n",
              "      <td>0.000006</td>\n",
              "      <td>0.000006</td>\n",
              "      <td>0.0</td>\n",
              "      <td>0.0</td>\n",
              "      <td>0.0</td>\n",
              "      <td>0.0</td>\n",
              "      <td>0.0</td>\n",
              "      <td>0.0</td>\n",
              "      <td>0.0</td>\n",
              "    </tr>\n",
              "    <tr>\n",
              "      <th>3</th>\n",
              "      <td>1.08</td>\n",
              "      <td>0.737001</td>\n",
              "      <td>0.010562</td>\n",
              "      <td>0.671544</td>\n",
              "      <td>0.000677</td>\n",
              "      <td>0.054218</td>\n",
              "      <td>0.052970</td>\n",
              "      <td>0.001248</td>\n",
              "      <td>0.0</td>\n",
              "      <td>0.0</td>\n",
              "      <td>0.0</td>\n",
              "      <td>0.0</td>\n",
              "      <td>0.0</td>\n",
              "      <td>0.0</td>\n",
              "      <td>0.0</td>\n",
              "      <td>0.0</td>\n",
              "      <td>0.0</td>\n",
              "      <td>0.0</td>\n",
              "      <td>0.0</td>\n",
              "      <td>0.0</td>\n",
              "      <td>0.0</td>\n",
              "      <td>0.0</td>\n",
              "      <td>0.000000</td>\n",
              "      <td>0.000009</td>\n",
              "      <td>0.000009</td>\n",
              "      <td>0.0</td>\n",
              "      <td>0.0</td>\n",
              "      <td>0.0</td>\n",
              "      <td>0.0</td>\n",
              "      <td>0.0</td>\n",
              "      <td>0.0</td>\n",
              "      <td>0.0</td>\n",
              "    </tr>\n",
              "    <tr>\n",
              "      <th>4</th>\n",
              "      <td>1.28</td>\n",
              "      <td>0.752386</td>\n",
              "      <td>0.013879</td>\n",
              "      <td>0.646232</td>\n",
              "      <td>0.001117</td>\n",
              "      <td>0.091159</td>\n",
              "      <td>0.088245</td>\n",
              "      <td>0.002914</td>\n",
              "      <td>0.0</td>\n",
              "      <td>0.0</td>\n",
              "      <td>0.0</td>\n",
              "      <td>0.0</td>\n",
              "      <td>0.0</td>\n",
              "      <td>0.0</td>\n",
              "      <td>0.0</td>\n",
              "      <td>0.0</td>\n",
              "      <td>0.0</td>\n",
              "      <td>0.0</td>\n",
              "      <td>0.0</td>\n",
              "      <td>0.0</td>\n",
              "      <td>0.0</td>\n",
              "      <td>0.0</td>\n",
              "      <td>0.000015</td>\n",
              "      <td>0.000000</td>\n",
              "      <td>0.000015</td>\n",
              "      <td>0.0</td>\n",
              "      <td>0.0</td>\n",
              "      <td>0.0</td>\n",
              "      <td>0.0</td>\n",
              "      <td>0.0</td>\n",
              "      <td>0.0</td>\n",
              "      <td>0.0</td>\n",
              "    </tr>\n",
              "  </tbody>\n",
              "</table>\n",
              "</div>"
            ],
            "text/plain": [
              "   AveragePrice  Total Volume  ...  new_region_west_coast  volume_organic\n",
              "0          1.33      0.754816  ...                    0.0             0.0\n",
              "1          1.35      0.762221  ...                    0.0             0.0\n",
              "2          0.93      0.732870  ...                    0.0             0.0\n",
              "3          1.08      0.737001  ...                    0.0             0.0\n",
              "4          1.28      0.752386  ...                    0.0             0.0\n",
              "\n",
              "[5 rows x 32 columns]"
            ]
          },
          "metadata": {
            "tags": []
          },
          "execution_count": 59
        }
      ]
    },
    {
      "cell_type": "code",
      "metadata": {
        "id": "23j-V0SlGbwo",
        "colab_type": "code",
        "colab": {}
      },
      "source": [
        "from sklearn.svm import SVR\n",
        "svr = SVR()\n",
        "\n",
        "Y = numeric_and_dummies_2['AveragePrice']\n",
        "X = numeric_and_dummies_2[['type_organic', 'Total Volume', '4046', 'volume_organic', 'new_region_mid_atlantic', 'new_region_northeast', 'new_region_west_coast', 'new_region_southeast', 'new_region_pacific_northwest', 'new_region_midwest', 'new_region_southwest']]"
      ],
      "execution_count": 0,
      "outputs": []
    },
    {
      "cell_type": "code",
      "metadata": {
        "id": "i2LXnxTCGch7",
        "colab_type": "code",
        "outputId": "3d3e82e6-feff-4902-c39f-ea371f5d06a0",
        "colab": {
          "base_uri": "https://localhost:8080/",
          "height": 34
        }
      },
      "source": [
        "cross_val_score(svr, X, Y, cv=5)\n",
        "#Again...the accuracy isn't looking good here. Next, I will be including all possible features."
      ],
      "execution_count": 61,
      "outputs": [
        {
          "output_type": "execute_result",
          "data": {
            "text/plain": [
              "array([-0.35897826,  0.0739327 ,  0.36405986, -0.03376997, -0.00370506])"
            ]
          },
          "metadata": {
            "tags": []
          },
          "execution_count": 61
        }
      ]
    },
    {
      "cell_type": "code",
      "metadata": {
        "id": "h3op2Hy8GrZ6",
        "colab_type": "code",
        "outputId": "87139c46-75da-4636-c7f1-78fe4f1a7efa",
        "colab": {
          "base_uri": "https://localhost:8080/",
          "height": 34
        }
      },
      "source": [
        "X = numeric_and_dummies_2.drop('AveragePrice', 1)\n",
        "Y = numeric_and_dummies_2['AveragePrice']\n",
        "cross_val_score(svr, X, Y, cv=5 )"
      ],
      "execution_count": 62,
      "outputs": [
        {
          "output_type": "execute_result",
          "data": {
            "text/plain": [
              "array([-0.02913471,  0.17454361,  0.48423847,  0.25607197,  0.00208014])"
            ]
          },
          "metadata": {
            "tags": []
          },
          "execution_count": 62
        }
      ]
    },
    {
      "cell_type": "markdown",
      "metadata": {
        "id": "MXw3vW_sRwlu",
        "colab_type": "text"
      },
      "source": [
        "## Gradient Boosting\n",
        "I will now be using gradient boosting to improve on the previous models created to see if this offers a chance at helping produce a strong lerner."
      ]
    },
    {
      "cell_type": "code",
      "metadata": {
        "id": "udg5Z-1OSO9y",
        "colab_type": "code",
        "outputId": "566fcdb2-cf15-42cd-f29a-b9eb76647dae",
        "colab": {
          "base_uri": "https://localhost:8080/",
          "height": 51
        }
      },
      "source": [
        "X = numeric_and_dummies_3.drop('AveragePrice', 1)\n",
        "Y = numeric_and_dummies_3['AveragePrice']\n",
        "\n",
        "preds = pd.DataFrame()\n",
        "labels = []\n",
        "\n",
        "for m in range(0, 101):\n",
        "    \n",
        "    \n",
        "    decision_tree = tree.DecisionTreeRegressor(max_depth=2)\n",
        "    decision_tree.fit(X,Y)\n",
        "    \n",
        "    \n",
        "    pred = decision_tree.predict(X)\n",
        "    preds['pred{}'.format(m)] = pred\n",
        "    \n",
        "    \n",
        "    Y = Y - pred\n",
        "\n",
        "\n",
        "predicted = preds.sum(axis=1)\n",
        "\n",
        "print('Overall R^2:')\n",
        "print(np.corrcoef(numeric_and_dummies_3['AveragePrice'], predicted)[0, 1])"
      ],
      "execution_count": 63,
      "outputs": [
        {
          "output_type": "stream",
          "text": [
            "Overall R^2:\n",
            "0.8971427674363472\n"
          ],
          "name": "stdout"
        }
      ]
    },
    {
      "cell_type": "markdown",
      "metadata": {
        "id": "eqz9WKYfZyOg",
        "colab_type": "text"
      },
      "source": [
        "## Conclusion\n",
        "As we have seen from the various supervised models, none in particular necessarily did a good job at prediction the darget variable. If we look at the models without any gradient boosting, the strongest performer was the linear regression model, which was able to explain roughly 46% of the target variables accurately. However, we have been able to create a strong-performing model with gradient boosting with simple decision trees of no more than 4 leaves. As we can see in the above, the R^2 returned was almost 90%, which is much stronger than any of the examples we have tested prior. "
      ]
    },
    {
      "cell_type": "code",
      "metadata": {
        "id": "WWW9uzvmXEAt",
        "colab_type": "code",
        "colab": {}
      },
      "source": [
        ""
      ],
      "execution_count": 0,
      "outputs": []
    }
  ]
}